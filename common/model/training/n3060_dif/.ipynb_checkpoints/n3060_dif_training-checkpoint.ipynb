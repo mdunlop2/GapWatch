{
 "cells": [
  {
   "cell_type": "markdown",
   "metadata": {},
   "source": [
    "# First Order Differential Model\n",
    "\n",
    "Expands upon the simple set of features used in `n3060_std` by taking their frame-to-frame differential, the difference between the current frame and the most recent frame observed.\n",
    "\n",
    "#### *Why include differences?*\n",
    "\n",
    "The image and audio processes in the field are dependent on numerous factors (wind, time of day, weather)\n",
    "and so the value of the features generated at any one time are not actuallystationary processes,\n",
    "there are variations but the processes are the cumulative sum of these variations.\n",
    "In time-series analysis, to deal with such processes one needs to apply a differential,\n",
    "where by we use the rate of change of the features as inputs to the model.\n",
    "\n",
    "To achieve this, the model needs to have not only the most recent frame available, but also\n",
    "the previous frame. It then finds the difference between these and proceeds as with n3060_std in\n",
    "feature extraction.\n",
    "\n",
    "#### *Potential Deployment Issues*\n",
    "\n",
    "The dataset that was generated here assumes that the model can operate at a constant 30 frames per second - so the difference observed is simply the difference in the underlying processes over 1/30th of a second. If the model when deployed is not able to obtain 30 frames per second then it is likely that the results will be different to those when training the model since the differences will occur over a longer time period.\n",
    "\n",
    "A potential way to mitigate this in deployment is to scale the numerical difference by the time between frames. For example, if a the deployed frame-rate is only 15 frames per second then there is 1/15 second between frames and the feature values should therefore be halved.\n",
    "Essentially we are assuming that:\n",
    "\n",
    "$$\\frac{\\partial_{\\text{process}}}{\\partial_{\\text{time}}} = c$$\n",
    "for some constant c.\n",
    "\n",
    "Numerically this is:\n",
    "$$\\frac{\\Delta_{\\text{process}}}{\\Delta_{\\text{time}}} = c$$\n",
    "where we have $\\Delta_{\\text{time}}$ as the time between frames."
   ]
  },
  {
   "cell_type": "code",
   "execution_count": 1,
   "metadata": {},
   "outputs": [
    {
     "name": "stdout",
     "output_type": "stream",
     "text": [
      "Dataframe Header: \n",
      "['mean' 'd_mean' 'var' 'd_var' 'kurt' 'd_kurt' 'skew' 'd_skew' 'mfcc_0'\n",
      " 'mfcc_1' 'mfcc_2' 'mfcc_3' 'mfcc_4' 'mfcc_5' 'mfcc_6' 'mfcc_7' 'mfcc_8'\n",
      " 'mfcc_9' 'd_mfcc_0' 'd_mfcc_1' 'd_mfcc_2' 'd_mfcc_3' 'd_mfcc_4'\n",
      " 'd_mfcc_5' 'd_mfcc_6' 'd_mfcc_7' 'd_mfcc_8' 'd_mfcc_9' 'label'\n",
      " 'video_url' 'frame']\n"
     ]
    }
   ],
   "source": [
    "# load model and data and any imports\n",
    "# imports and model specific settings\n",
    "# perform imports\n",
    "import numpy as np\n",
    "import pandas as pd\n",
    "from pathlib import Path\n",
    "\n",
    "# standard libraries\n",
    "import importlib, argparse, os.path, os, sys, time, sqlite3, subprocess, progressbar\n",
    "\n",
    "# attempt to import the dataset configuration itself\n",
    "# Add the git root directory to python path\n",
    "# unfortunately need to do this manually because Jupyter\n",
    "# sets the current working directory to the location of the notebook .ipynb file\n",
    "git_root = \"/home/matthew/Documents/GapWatch\"\n",
    "model_module = \"common.model.training.n3060_dif.n3060_dif\"\n",
    "data_path = \"common/model/training/n3060_dif/n3060_dif.csv\"\n",
    "sys.path.insert(0,git_root)\n",
    "\n",
    "# custom helper scripts\n",
    "import common.model.training.training_utils as tu\n",
    "\n",
    "# import the model\n",
    "m = importlib.import_module(model_module)\n",
    "\n",
    "# import the data\n",
    "df = pd.read_csv(os.path.join(git_root,data_path))\n",
    "\n",
    "headers = df.columns.values\n",
    "print(\"Dataframe Header: \\n{}\".format(headers))"
   ]
  },
  {
   "cell_type": "code",
   "execution_count": 2,
   "metadata": {},
   "outputs": [
    {
     "data": {
      "text/html": [
       "<div>\n",
       "<style scoped>\n",
       "    .dataframe tbody tr th:only-of-type {\n",
       "        vertical-align: middle;\n",
       "    }\n",
       "\n",
       "    .dataframe tbody tr th {\n",
       "        vertical-align: top;\n",
       "    }\n",
       "\n",
       "    .dataframe thead th {\n",
       "        text-align: right;\n",
       "    }\n",
       "</style>\n",
       "<table border=\"1\" class=\"dataframe\">\n",
       "  <thead>\n",
       "    <tr style=\"text-align: right;\">\n",
       "      <th></th>\n",
       "      <th>mean</th>\n",
       "      <th>d_mean</th>\n",
       "      <th>var</th>\n",
       "      <th>d_var</th>\n",
       "      <th>kurt</th>\n",
       "      <th>d_kurt</th>\n",
       "      <th>skew</th>\n",
       "      <th>d_skew</th>\n",
       "      <th>mfcc_0</th>\n",
       "      <th>mfcc_1</th>\n",
       "      <th>...</th>\n",
       "      <th>d_mfcc_1</th>\n",
       "      <th>d_mfcc_2</th>\n",
       "      <th>d_mfcc_3</th>\n",
       "      <th>d_mfcc_4</th>\n",
       "      <th>d_mfcc_5</th>\n",
       "      <th>d_mfcc_6</th>\n",
       "      <th>d_mfcc_7</th>\n",
       "      <th>d_mfcc_8</th>\n",
       "      <th>d_mfcc_9</th>\n",
       "      <th>frame</th>\n",
       "    </tr>\n",
       "  </thead>\n",
       "  <tbody>\n",
       "    <tr>\n",
       "      <th>count</th>\n",
       "      <td>7990.000000</td>\n",
       "      <td>7990.000000</td>\n",
       "      <td>7990.000000</td>\n",
       "      <td>7990.000000</td>\n",
       "      <td>7990.000000</td>\n",
       "      <td>7990.000000</td>\n",
       "      <td>7990.000000</td>\n",
       "      <td>7990.000000</td>\n",
       "      <td>7990.000000</td>\n",
       "      <td>7990.000000</td>\n",
       "      <td>...</td>\n",
       "      <td>7990.000000</td>\n",
       "      <td>7990.000000</td>\n",
       "      <td>7990.000000</td>\n",
       "      <td>7990.000000</td>\n",
       "      <td>7990.000000</td>\n",
       "      <td>7990.000000</td>\n",
       "      <td>7990.000000</td>\n",
       "      <td>7990.000000</td>\n",
       "      <td>7990.000000</td>\n",
       "      <td>7990.000000</td>\n",
       "    </tr>\n",
       "    <tr>\n",
       "      <th>mean</th>\n",
       "      <td>-0.237712</td>\n",
       "      <td>0.000642</td>\n",
       "      <td>0.118457</td>\n",
       "      <td>0.012628</td>\n",
       "      <td>0.398255</td>\n",
       "      <td>158.400169</td>\n",
       "      <td>0.432396</td>\n",
       "      <td>0.005976</td>\n",
       "      <td>586.699099</td>\n",
       "      <td>137.595833</td>\n",
       "      <td>...</td>\n",
       "      <td>-0.141729</td>\n",
       "      <td>-0.245276</td>\n",
       "      <td>-0.098438</td>\n",
       "      <td>-0.052120</td>\n",
       "      <td>-0.013920</td>\n",
       "      <td>0.112771</td>\n",
       "      <td>-0.081381</td>\n",
       "      <td>-0.101732</td>\n",
       "      <td>-0.006259</td>\n",
       "      <td>2783.513267</td>\n",
       "    </tr>\n",
       "    <tr>\n",
       "      <th>std</th>\n",
       "      <td>0.118974</td>\n",
       "      <td>0.017825</td>\n",
       "      <td>0.059688</td>\n",
       "      <td>0.028872</td>\n",
       "      <td>0.967859</td>\n",
       "      <td>358.494157</td>\n",
       "      <td>0.454734</td>\n",
       "      <td>3.007261</td>\n",
       "      <td>43.610093</td>\n",
       "      <td>28.199665</td>\n",
       "      <td>...</td>\n",
       "      <td>8.435308</td>\n",
       "      <td>6.963441</td>\n",
       "      <td>5.992938</td>\n",
       "      <td>6.242498</td>\n",
       "      <td>7.906557</td>\n",
       "      <td>6.799816</td>\n",
       "      <td>6.564643</td>\n",
       "      <td>5.183764</td>\n",
       "      <td>5.477935</td>\n",
       "      <td>2526.238345</td>\n",
       "    </tr>\n",
       "    <tr>\n",
       "      <th>min</th>\n",
       "      <td>-0.920440</td>\n",
       "      <td>-0.149905</td>\n",
       "      <td>0.018187</td>\n",
       "      <td>0.000000</td>\n",
       "      <td>-1.642383</td>\n",
       "      <td>-3.000000</td>\n",
       "      <td>-2.599177</td>\n",
       "      <td>-42.017414</td>\n",
       "      <td>246.640950</td>\n",
       "      <td>9.999248</td>\n",
       "      <td>...</td>\n",
       "      <td>-48.316757</td>\n",
       "      <td>-64.119880</td>\n",
       "      <td>-69.462050</td>\n",
       "      <td>-27.871113</td>\n",
       "      <td>-56.143185</td>\n",
       "      <td>-34.440346</td>\n",
       "      <td>-47.831800</td>\n",
       "      <td>-23.690823</td>\n",
       "      <td>-30.012306</td>\n",
       "      <td>2.000000</td>\n",
       "    </tr>\n",
       "    <tr>\n",
       "      <th>25%</th>\n",
       "      <td>-0.328711</td>\n",
       "      <td>-0.000620</td>\n",
       "      <td>0.077890</td>\n",
       "      <td>0.000012</td>\n",
       "      <td>-0.057538</td>\n",
       "      <td>19.049546</td>\n",
       "      <td>0.101802</td>\n",
       "      <td>-0.646625</td>\n",
       "      <td>555.505153</td>\n",
       "      <td>118.329598</td>\n",
       "      <td>...</td>\n",
       "      <td>-5.411423</td>\n",
       "      <td>-4.355042</td>\n",
       "      <td>-3.766953</td>\n",
       "      <td>-4.234821</td>\n",
       "      <td>-4.902950</td>\n",
       "      <td>-4.208936</td>\n",
       "      <td>-4.371611</td>\n",
       "      <td>-3.503969</td>\n",
       "      <td>-3.707174</td>\n",
       "      <td>683.000000</td>\n",
       "    </tr>\n",
       "    <tr>\n",
       "      <th>50%</th>\n",
       "      <td>-0.235924</td>\n",
       "      <td>0.000005</td>\n",
       "      <td>0.093208</td>\n",
       "      <td>0.002162</td>\n",
       "      <td>0.324196</td>\n",
       "      <td>42.447190</td>\n",
       "      <td>0.332885</td>\n",
       "      <td>0.001155</td>\n",
       "      <td>574.007050</td>\n",
       "      <td>127.435298</td>\n",
       "      <td>...</td>\n",
       "      <td>0.054214</td>\n",
       "      <td>-0.109551</td>\n",
       "      <td>-0.044316</td>\n",
       "      <td>-0.061184</td>\n",
       "      <td>-0.031559</td>\n",
       "      <td>-0.016876</td>\n",
       "      <td>0.054306</td>\n",
       "      <td>-0.200543</td>\n",
       "      <td>-0.046435</td>\n",
       "      <td>1856.500000</td>\n",
       "    </tr>\n",
       "    <tr>\n",
       "      <th>75%</th>\n",
       "      <td>-0.150082</td>\n",
       "      <td>0.000634</td>\n",
       "      <td>0.144982</td>\n",
       "      <td>0.009222</td>\n",
       "      <td>0.763513</td>\n",
       "      <td>116.196055</td>\n",
       "      <td>0.587460</td>\n",
       "      <td>0.584435</td>\n",
       "      <td>611.062670</td>\n",
       "      <td>156.871537</td>\n",
       "      <td>...</td>\n",
       "      <td>5.200882</td>\n",
       "      <td>3.970688</td>\n",
       "      <td>3.442774</td>\n",
       "      <td>4.176364</td>\n",
       "      <td>5.092614</td>\n",
       "      <td>4.392881</td>\n",
       "      <td>4.252513</td>\n",
       "      <td>3.286631</td>\n",
       "      <td>3.572142</td>\n",
       "      <td>5010.000000</td>\n",
       "    </tr>\n",
       "    <tr>\n",
       "      <th>max</th>\n",
       "      <td>0.858560</td>\n",
       "      <td>0.276014</td>\n",
       "      <td>0.485184</td>\n",
       "      <td>0.478312</td>\n",
       "      <td>52.039124</td>\n",
       "      <td>7074.422400</td>\n",
       "      <td>5.198003</td>\n",
       "      <td>42.723377</td>\n",
       "      <td>997.249600</td>\n",
       "      <td>235.732180</td>\n",
       "      <td>...</td>\n",
       "      <td>60.541885</td>\n",
       "      <td>48.490740</td>\n",
       "      <td>39.398888</td>\n",
       "      <td>33.301420</td>\n",
       "      <td>49.938248</td>\n",
       "      <td>31.796036</td>\n",
       "      <td>42.575060</td>\n",
       "      <td>18.236920</td>\n",
       "      <td>23.814714</td>\n",
       "      <td>8940.000000</td>\n",
       "    </tr>\n",
       "  </tbody>\n",
       "</table>\n",
       "<p>8 rows × 29 columns</p>\n",
       "</div>"
      ],
      "text/plain": [
       "              mean       d_mean          var        d_var         kurt  \\\n",
       "count  7990.000000  7990.000000  7990.000000  7990.000000  7990.000000   \n",
       "mean     -0.237712     0.000642     0.118457     0.012628     0.398255   \n",
       "std       0.118974     0.017825     0.059688     0.028872     0.967859   \n",
       "min      -0.920440    -0.149905     0.018187     0.000000    -1.642383   \n",
       "25%      -0.328711    -0.000620     0.077890     0.000012    -0.057538   \n",
       "50%      -0.235924     0.000005     0.093208     0.002162     0.324196   \n",
       "75%      -0.150082     0.000634     0.144982     0.009222     0.763513   \n",
       "max       0.858560     0.276014     0.485184     0.478312    52.039124   \n",
       "\n",
       "            d_kurt         skew       d_skew       mfcc_0       mfcc_1  ...  \\\n",
       "count  7990.000000  7990.000000  7990.000000  7990.000000  7990.000000  ...   \n",
       "mean    158.400169     0.432396     0.005976   586.699099   137.595833  ...   \n",
       "std     358.494157     0.454734     3.007261    43.610093    28.199665  ...   \n",
       "min      -3.000000    -2.599177   -42.017414   246.640950     9.999248  ...   \n",
       "25%      19.049546     0.101802    -0.646625   555.505153   118.329598  ...   \n",
       "50%      42.447190     0.332885     0.001155   574.007050   127.435298  ...   \n",
       "75%     116.196055     0.587460     0.584435   611.062670   156.871537  ...   \n",
       "max    7074.422400     5.198003    42.723377   997.249600   235.732180  ...   \n",
       "\n",
       "          d_mfcc_1     d_mfcc_2     d_mfcc_3     d_mfcc_4     d_mfcc_5  \\\n",
       "count  7990.000000  7990.000000  7990.000000  7990.000000  7990.000000   \n",
       "mean     -0.141729    -0.245276    -0.098438    -0.052120    -0.013920   \n",
       "std       8.435308     6.963441     5.992938     6.242498     7.906557   \n",
       "min     -48.316757   -64.119880   -69.462050   -27.871113   -56.143185   \n",
       "25%      -5.411423    -4.355042    -3.766953    -4.234821    -4.902950   \n",
       "50%       0.054214    -0.109551    -0.044316    -0.061184    -0.031559   \n",
       "75%       5.200882     3.970688     3.442774     4.176364     5.092614   \n",
       "max      60.541885    48.490740    39.398888    33.301420    49.938248   \n",
       "\n",
       "          d_mfcc_6     d_mfcc_7     d_mfcc_8     d_mfcc_9        frame  \n",
       "count  7990.000000  7990.000000  7990.000000  7990.000000  7990.000000  \n",
       "mean      0.112771    -0.081381    -0.101732    -0.006259  2783.513267  \n",
       "std       6.799816     6.564643     5.183764     5.477935  2526.238345  \n",
       "min     -34.440346   -47.831800   -23.690823   -30.012306     2.000000  \n",
       "25%      -4.208936    -4.371611    -3.503969    -3.707174   683.000000  \n",
       "50%      -0.016876     0.054306    -0.200543    -0.046435  1856.500000  \n",
       "75%       4.392881     4.252513     3.286631     3.572142  5010.000000  \n",
       "max      31.796036    42.575060    18.236920    23.814714  8940.000000  \n",
       "\n",
       "[8 rows x 29 columns]"
      ]
     },
     "execution_count": 2,
     "metadata": {},
     "output_type": "execute_result"
    }
   ],
   "source": [
    "# select the X and y to be used for modeling\n",
    "ml_df = df.copy() # make a copy\n",
    "X_cols = headers[:-3] # numeric features\n",
    "y_cols = headers[-3] # \"label\"\n",
    "\n",
    "# NOTE: Perform standardisation inside the model pipeline\n",
    "# as should not use test data for mean and standard deviation estimates!\n",
    "# X_mean = ml_df[X_cols].mean(axis=0)\n",
    "# X_std  = ml_df[X_cols].std(axis=0)\n",
    "\n",
    "# ml_df[X_cols] = (ml_df[X_cols]-X_mean)/X_std\n",
    "ml_df.describe()"
   ]
  },
  {
   "cell_type": "markdown",
   "metadata": {},
   "source": [
    "# Models\n",
    "\n",
    "Will consider the following models:\n",
    "\n",
    "1. Logistic Regression\n",
    "2. Decision Tree Classifier"
   ]
  },
  {
   "cell_type": "markdown",
   "metadata": {},
   "source": [
    "## Train-Valid-Test Split\n",
    "Split the frames by `video_url` as this will ensure that the unseen data doesn't contain frames from videos that the model has been exposed to. This is particularly important because some of the features are video dependent (eg. lighting, weather etc) and the model should not have seen any of those criteria if the frame is truly \"unseen\"."
   ]
  },
  {
   "cell_type": "code",
   "execution_count": 3,
   "metadata": {},
   "outputs": [
    {
     "name": "stdout",
     "output_type": "stream",
     "text": [
      "Train set shape:  (4085, 31)\n",
      "Validation set shape:  (2015, 31)\n",
      "Test set shape:  (1890, 31)\n"
     ]
    }
   ],
   "source": [
    "# get the video urls to determine unique videos\n",
    "video_urls = ml_df.loc[:,headers[-2]].unique()\n",
    "\n",
    "# randomly sample\n",
    "np.random.seed(0)\n",
    "train_prop = 0.5 # save half the videos for validation run\n",
    "val_prop   = 0.25\n",
    "train_idx = np.random.choice(len(video_urls),int(np.floor(train_prop*len(video_urls))),\n",
    "                           replace=False)\n",
    "val_idx_full   = np.setdiff1d(np.arange(len(video_urls)), train_idx)\n",
    "\n",
    "val_idx = np.random.choice(val_idx_full,int(np.floor(val_prop*len(video_urls))),\n",
    "                           replace=False)\n",
    "test_idx = np.setdiff1d(val_idx_full, val_idx)\n",
    "\n",
    "# find the videos corresponding to these indices\n",
    "train_videos = video_urls[train_idx]\n",
    "val_videos   = video_urls[val_idx]\n",
    "test_videos   = video_urls[test_idx]\n",
    "\n",
    "\n",
    "ml_train = ml_df.loc[ml_df[headers[-2]].isin(train_videos),:]\n",
    "ml_val   = ml_df.loc[ml_df[headers[-2]].isin(val_videos)  ,:]\n",
    "ml_test  = ml_df.loc[ml_df[headers[-2]].isin(test_videos) ,:]\n",
    "\n",
    "print(\"Train set shape: \", ml_train.shape)\n",
    "print(\"Validation set shape: \",ml_val.shape)\n",
    "print(\"Test set shape: \",ml_test.shape)"
   ]
  },
  {
   "cell_type": "markdown",
   "metadata": {},
   "source": [
    "## Logistic Regression\n",
    "### Training"
   ]
  },
  {
   "cell_type": "code",
   "execution_count": 4,
   "metadata": {},
   "outputs": [
    {
     "name": "stderr",
     "output_type": "stream",
     "text": [
      "100% (200 of 200) |######################| Elapsed Time: 0:00:19 Time:  0:00:19\n",
      "N/A% (0 of 200) |                        | Elapsed Time: 0:00:00 ETA:  --:--:--"
     ]
    },
    {
     "name": "stdout",
     "output_type": "stream",
     "text": [
      "Variables Kept:\n",
      "['mean' 'var' 'd_var' 'kurt' 'skew' 'd_skew' 'mfcc_0' 'mfcc_2' 'mfcc_3'\n",
      " 'mfcc_4' 'mfcc_6' 'mfcc_7' 'mfcc_8' 'd_mfcc_0' 'd_mfcc_1' 'd_mfcc_4'\n",
      " 'd_mfcc_5' 'd_mfcc_7' 'd_mfcc_9']\n",
      "\n",
      "Variables Removed:\n",
      "['d_mean' 'd_kurt' 'mfcc_1' 'mfcc_5' 'mfcc_9' 'd_mfcc_2' 'd_mfcc_3'\n",
      " 'd_mfcc_6' 'd_mfcc_8']\n",
      "\n"
     ]
    },
    {
     "name": "stderr",
     "output_type": "stream",
     "text": [
      "100% (200 of 200) |######################| Elapsed Time: 0:00:14 Time:  0:00:14\n",
      "N/A% (0 of 200) |                        | Elapsed Time: 0:00:00 ETA:  --:--:--"
     ]
    },
    {
     "name": "stdout",
     "output_type": "stream",
     "text": [
      "Variables Kept:\n",
      "['mean' 'var' 'd_var' 'kurt' 'skew' 'mfcc_0' 'mfcc_2' 'mfcc_3' 'mfcc_4'\n",
      " 'mfcc_6' 'mfcc_7' 'mfcc_8' 'd_mfcc_0' 'd_mfcc_1' 'd_mfcc_4' 'd_mfcc_5'\n",
      " 'd_mfcc_7' 'd_mfcc_9']\n",
      "\n",
      "Variables Removed:\n",
      "['d_skew']\n",
      "\n"
     ]
    },
    {
     "name": "stderr",
     "output_type": "stream",
     "text": [
      "100% (200 of 200) |######################| Elapsed Time: 0:00:13 Time:  0:00:13\n"
     ]
    },
    {
     "name": "stdout",
     "output_type": "stream",
     "text": [
      "Variables Kept:\n",
      "['mean' 'var' 'd_var' 'kurt' 'skew' 'mfcc_0' 'mfcc_2' 'mfcc_3' 'mfcc_4'\n",
      " 'mfcc_6' 'mfcc_7' 'mfcc_8' 'd_mfcc_0' 'd_mfcc_1' 'd_mfcc_4' 'd_mfcc_5'\n",
      " 'd_mfcc_7' 'd_mfcc_9']\n",
      "\n",
      "Variables Removed:\n",
      "[]\n",
      "\n",
      "Stopping condition reached, no more variables to drop\n"
     ]
    }
   ],
   "source": [
    "# load scikit learn logistic regression\n",
    "from sklearn.linear_model import LogisticRegression\n",
    "from sklearn.model_selection import train_test_split, ShuffleSplit\n",
    "from sklearn.metrics import confusion_matrix\n",
    "\n",
    "# Pipeline\n",
    "from sklearn.pipeline import Pipeline\n",
    "from sklearn.preprocessing import StandardScaler # (x-mu)/sigma\n",
    "\n",
    "# hide convergence warnings\n",
    "import warnings\n",
    "warnings.filterwarnings(\"ignore\")\n",
    "\n",
    "# show progress\n",
    "import progressbar\n",
    "\n",
    "def score_model(clf, X_test, y_test, t=False):\n",
    "    # get predictions\n",
    "    if t:\n",
    "        # user defined threshold\n",
    "        y_score = clf.predict_proba(X_test)[:,1]\n",
    "        y_hat = np.where(y_score > t, 1, 0)\n",
    "    else:\n",
    "        y_hat = clf.predict(X_test)\n",
    "    # get the confusion matrix\n",
    "    tn, fp, fn, tp = confusion_matrix(y_test, y_hat).ravel()\n",
    "    # get accuracy\n",
    "    acc  = (tn+tp)/(tn+fp+fn+tp)\n",
    "    # get sensitivity\n",
    "    sens = tp/(tp+fn)\n",
    "    # get specificity\n",
    "    spec = tn/(tn+fp)\n",
    "    return acc, sens, spec\n",
    "    \n",
    "\n",
    "# perform bootstrapping to observe which coefficients can be dropped\n",
    "b = 200\n",
    "n_train = 0.5 # train on half, test on half\n",
    "\n",
    "# storage for accuracy, sensitivity, specificity (for both train and test to check for overfitting)\n",
    "scores = np.zeros((b, 6))\n",
    "bs = ShuffleSplit(n_splits = b,\n",
    "                 random_state=0,\n",
    "                 test_size=0.5)\n",
    "conf = .9 # form a 90% confidence interval to include significant variables\n",
    "X_cols_0 = X_cols.copy() # make a copy to prevent weirdness happening\n",
    "stop_cond = False\n",
    "while not stop_cond:\n",
    "    # define the response and predictors\n",
    "    X = ml_train[X_cols_0]\n",
    "    y = np.where(ml_train[y_cols]==\"Danger\",1,0) # 1: Danger, 0 No_Danger\n",
    "    # iterate training the model and performing variable selection\n",
    "    params = np.zeros((b,1+len(X_cols_0))) # storage for coefficeints\n",
    "    iter = 0\n",
    "    with progressbar.ProgressBar(max_value=b) as bar:\n",
    "        for train_index, test_index in bs.split(X):\n",
    "            X_train, X_test = X.iloc[train_index,:], X.iloc[test_index,:]\n",
    "            y_train, y_test = y[train_index], y[test_index]\n",
    "            # fit the classifier\n",
    "            lr_pipe = Pipeline([('scaler', StandardScaler()),\n",
    "                  ('lr', LogisticRegression(random_state=0,\n",
    "                                           solver=\"sag\"))])\n",
    "            lr_pipe.fit(X_train, y_train)\n",
    "            # Automatically tune the threshold to the training data\n",
    "            y_hat = lr_pipe.predict_proba(X_train)[:, 1]\n",
    "            p, r, thresholds = tu.precision_recall_curve(y_train, y_hat)\n",
    "            target_r = 0.95\n",
    "            t_opt = thresholds[np.argmin(np.abs(r-target_r))]\n",
    "            \n",
    "            # record the model parameters\n",
    "            params[iter,:] = np.squeeze(np.hstack((lr_pipe.named_steps['lr'].intercept_[:,None],\n",
    "                                                   lr_pipe.named_steps['lr'].coef_)))\n",
    "            # score the model on train data first\n",
    "            scores[iter,:3] = score_model(lr_pipe, X_train, y_train, t=t_opt)\n",
    "            # score the model on test data\n",
    "            scores[iter,3:] = score_model(lr_pipe, X_test, y_test, t=t_opt)\n",
    "            # iteration counter\n",
    "            bar.update(iter)\n",
    "            iter +=1\n",
    "    # check the parameters for ones that are not significantly different to zero and drop\n",
    "    # then refit the model\n",
    "    # We cannot drop the intercept!\n",
    "    up = np.percentile(params[:,1:], 100*(1-(1-conf)/2), axis=0)\n",
    "    down = np.percentile(params[:,1:], 100*(1-conf)/2, axis=0)\n",
    "    keep = np.where((up>0)&(down<0),False, True)\n",
    "    not_keep = np.where((up>0)&(down<0),True, False)\n",
    "    X_cols_1 = X_cols_0[keep]\n",
    "    print(\"Variables Kept:\\n{}\\n\".format(X_cols_1))\n",
    "    print(\"Variables Removed:\\n{}\\n\".format(X_cols_0[not_keep]))\n",
    "    # update the columns to use in the model\n",
    "    X_cols_0 = X_cols_1\n",
    "    if False in keep:\n",
    "        stop_cond = False\n",
    "    else:\n",
    "        print(\"Stopping condition reached, no more variables to drop\")\n",
    "        stop_cond = True\n",
    "        \n",
    "    "
   ]
  },
  {
   "cell_type": "code",
   "execution_count": 5,
   "metadata": {},
   "outputs": [
    {
     "data": {
      "image/png": "[encoded data removed]",
      "text/plain": [
       "<Figure size 576x576 with 4 Axes>"
      ]
     },
     "metadata": {
      "needs_background": "light"
     },
     "output_type": "display_data"
    }
   ],
   "source": [
    "# plotting\n",
    "import matplotlib.pyplot as plt\n",
    "import seaborn as sns\n",
    "\n",
    "# boxplot of the parameters\n",
    "fig = plt.figure(figsize = (8,8))\n",
    "ax = fig.add_subplot(2, 2, 1)\n",
    "ax.boxplot(params)\n",
    "ax.axhline(y=0, c=\"b\")\n",
    "x_ax_labs = np.insert(X_cols_0,0,\"intercept\") \n",
    "ax.set_xticklabels(x_ax_labs, rotation = 90)\n",
    "\n",
    "\n",
    "# boxplot of the scorings, grouped by type if possible\n",
    "# reconfigure so that the \n",
    "ax = fig.add_subplot(2, 2, 2)\n",
    "ax.boxplot(scores[:,[0,3]])\n",
    "ax.set_xticklabels([\"Training\\nAccuracy\", \"Testing\\nAccuracy\"])\n",
    "\n",
    "ax = fig.add_subplot(2, 2, 3)\n",
    "ax.boxplot(scores[:,[1,4]])\n",
    "ax.set_xticklabels([\"Training\\nSensitivity\", \"Testing\\nSensitivity\"])\n",
    "\n",
    "ax = fig.add_subplot(2, 2, 4)\n",
    "ax.boxplot(scores[:,[2,5]])\n",
    "ax.set_xticklabels([\"Training\\nSpecificity\", \"Testing\\nSpecificity\"])\n",
    "\n",
    "plt.subplots_adjust(hspace=0.3)\n",
    "plt.savefig(\"lr.pdf\")\n",
    "plt.show()"
   ]
  },
  {
   "cell_type": "markdown",
   "metadata": {},
   "source": [
    "## Logistic Regression\n",
    "### Threshold Selection"
   ]
  },
  {
   "cell_type": "code",
   "execution_count": 6,
   "metadata": {},
   "outputs": [
    {
     "name": "stdout",
     "output_type": "stream",
     "text": [
      "Threshold to achieve Sensitivity of 0.95: 0.10171624504799832\n",
      "     pred_neg  pred_pos\n",
      "neg       267       748\n",
      "pos        49       951\n",
      "Sensitivity (Recall): 0.951\n",
      "Specificity         : 0.2630541871921182\n"
     ]
    },
    {
     "data": {
      "image/png": "[encoded data removed]",
      "text/plain": [
       "<Figure size 576x576 with 1 Axes>"
      ]
     },
     "metadata": {
      "needs_background": "light"
     },
     "output_type": "display_data"
    }
   ],
   "source": [
    "from sklearn.metrics import roc_curve, precision_recall_curve, auc, make_scorer, recall_score, accuracy_score, precision_score, confusion_matrix\n",
    "\n",
    "X_train, X_test = ml_train[X_cols_1], ml_val[X_cols_1]\n",
    "y_train, y_test = np.where(ml_train[y_cols]==\"Danger\",1,0), np.where(ml_val[y_cols]==\"Danger\",1,0)\n",
    "lr_pipe = Pipeline([('scaler', StandardScaler()),\n",
    "                  ('dt', LogisticRegression(random_state=0,\n",
    "                                           solver=\"sag\"))])\n",
    "lr_pipe.fit(X_train, y_train)\n",
    "# get y_hat\n",
    "y_hat = lr_pipe.predict_proba(X_test)[:, 1]\n",
    "\n",
    "p, r, thresholds = tu.precision_recall_curve(y_test, y_hat)\n",
    "\n",
    "target_r = 0.95\n",
    "t_opt_lr = thresholds[np.argmin(np.abs(r-target_r))]\n",
    "print(\"Threshold to achieve Sensitivity of {}: {}\".format(target_r, t_opt_lr))\n",
    "\n",
    "tu.precision_recall_threshold(p, r, thresholds, y_hat, y_test, t= t_opt_lr)"
   ]
  },
  {
   "cell_type": "code",
   "execution_count": 7,
   "metadata": {},
   "outputs": [
    {
     "data": {
      "image/png": "[encoded data removed]",
      "text/plain": [
       "<Figure size 576x576 with 1 Axes>"
      ]
     },
     "metadata": {
      "needs_background": "light"
     },
     "output_type": "display_data"
    }
   ],
   "source": [
    "tu.plot_precision_recall_vs_threshold(p, r, thresholds)"
   ]
  },
  {
   "cell_type": "code",
   "execution_count": 8,
   "metadata": {},
   "outputs": [
    {
     "name": "stdout",
     "output_type": "stream",
     "text": [
      "Area under ROC curve: 0.8898103448275861\n"
     ]
    },
    {
     "data": {
      "image/png": "[encoded data removed]",
      "text/plain": [
       "<Figure size 576x576 with 1 Axes>"
      ]
     },
     "metadata": {
      "needs_background": "light"
     },
     "output_type": "display_data"
    }
   ],
   "source": [
    "fpr, tpr, auc_thresholds = tu.roc_curve(y_test, y_hat)\n",
    "print(\"Area under ROC curve: {}\".format(auc(fpr, tpr))) # AUC of ROC\n",
    "tu.plot_roc_curve(fpr, tpr, 'recall_optimized')"
   ]
  },
  {
   "cell_type": "markdown",
   "metadata": {},
   "source": [
    "## Decision Tree Classifier\n",
    "### Training"
   ]
  },
  {
   "cell_type": "code",
   "execution_count": 9,
   "metadata": {},
   "outputs": [
    {
     "name": "stdout",
     "output_type": "stream",
     "text": [
      "Search Complete in 9.358277082443237 seconds\n"
     ]
    },
    {
     "data": {
      "image/png": "[encoded data removed]",
      "text/plain": [
       "<Figure size 576x576 with 3 Axes>"
      ]
     },
     "metadata": {
      "needs_background": "light"
     },
     "output_type": "display_data"
    }
   ],
   "source": [
    "# load scikit learn logistic regression\n",
    "from sklearn.tree import DecisionTreeClassifier\n",
    "\n",
    "# parallel\n",
    "from multiprocessing import Pool\n",
    "from itertools import repeat\n",
    "\n",
    "X = ml_train[X_cols]\n",
    "y = np.where(ml_train[y_cols]==\"Danger\",1,0) # 1: Danger, 0 No_Danger\n",
    "\n",
    "# perform bootstrapping to observe which coefficients can be dropped\n",
    "b = 200\n",
    "n_train = 0.5 # train on half, test on half\n",
    "params = np.zeros((b,1+len(X_cols))) # storage for coefficeints\n",
    "# storage for accuracy, sensitivity, specificity (for both train and test to check for overfitting)\n",
    "nk = 10 # number of different depths to try\n",
    "depths = np.arange(nk)+1 # zero depth tree doesnt make sense\n",
    "\n",
    "scores = np.zeros((b, nk, 6))\n",
    "bs = ShuffleSplit(n_splits = b,\n",
    "                 random_state=0,\n",
    "                 test_size=0.5)\n",
    "iter = 0\n",
    "start = time.time()\n",
    "X_tr, X_te, y_tr, y_te = [], [], [], [] # storage lists\n",
    "for train_index, test_index in bs.split(X):    \n",
    "    X_train, X_test = X.iloc[train_index,:], X.iloc[test_index,:]\n",
    "    y_train, y_test = y[train_index], y[test_index]\n",
    "    X_tr.append(X_train)\n",
    "    X_te.append(X_test)\n",
    "    y_tr.append(y_train)\n",
    "    y_te.append(y_test)\n",
    "# evaluate performance in parallel\n",
    "def return_scores(split, depths):\n",
    "    train_index = split[0]\n",
    "    test_index  = split[1]\n",
    "    scores = np.zeros((nk,6))\n",
    "    for i in range(nk):\n",
    "        # fit the classifier\n",
    "        dt_pipe = Pipeline([('scaler', StandardScaler()),\n",
    "                 ('dt', DecisionTreeClassifier(random_state=0,\n",
    "                        max_depth=depths[i]))])\n",
    "        dt_pipe.fit(X_train, y_train)\n",
    "        # threshold optimisation\n",
    "        y_hat = dt_pipe.predict_proba(X_train)[:, 1]\n",
    "        p, r, thresholds = tu.precision_recall_curve(y_train, y_hat)\n",
    "        target_r = 0.95\n",
    "        t_opt = thresholds[np.argmin(np.abs(r-target_r))]\n",
    "        # score the model on train data first\n",
    "        scores[i,:3] = score_model(dt_pipe, X_train, y_train, t=t_opt)\n",
    "        # score the model on test data\n",
    "        scores[i,3:] = score_model(dt_pipe, X_test, y_test, t=t_opt)\n",
    "    return scores\n",
    "with Pool(os.cpu_count()) as pool:\n",
    "    res = pool.starmap(return_scores,\n",
    "                        zip(bs.split(X),\n",
    "                            repeat(depths)))\n",
    "print(\"Search Complete in {} seconds\".format(time.time()-start))\n",
    "scores = np.array(res)\n",
    "\n",
    "# get the confidence intervals\n",
    "up = np.percentile(scores, 95, axis=0)\n",
    "med = np.percentile(scores, 50, axis=0)\n",
    "lo = np.percentile(scores, 5, axis=0)\n",
    "\n",
    "# Plot 1: Accuracy with depth\n",
    "metric = \"Accuracy\"\n",
    "fig = plt.figure(figsize = (8,8))\n",
    "ax = fig.add_subplot(3, 1, 1)\n",
    "ax.fill_between(depths, up[:,0], lo[:,0], color=\"b\")\n",
    "ax.plot(depths, med[:,0], c=\"b\", label=\"Train {}\".format(metric))\n",
    "ax.fill_between(depths, up[:,3], lo[:,3], color=\"r\")\n",
    "ax.plot(depths, med[:,3], c=\"r\", label=\"Test {}\".format(metric))\n",
    "ax.legend()\n",
    "\n",
    "\n",
    "# Plot 2: Sensitivity with depth\n",
    "metric = \"Sensitivity\"\n",
    "ax = fig.add_subplot(3, 1, 2)\n",
    "ax.fill_between(depths, up[:,1], lo[:,1], color=\"b\")\n",
    "ax.plot(depths, med[:,1], c=\"b\", label=\"Train {}\".format(metric))\n",
    "ax.fill_between(depths, up[:,4], lo[:,4], color=\"r\")\n",
    "ax.plot(depths, med[:,4], c=\"r\", label=\"Test {}\".format(metric))\n",
    "ax.legend()\n",
    "\n",
    "# Plot 3: Specificity with depth\n",
    "metric = \"Specificity\"\n",
    "ax = fig.add_subplot(3, 1, 3)\n",
    "ax.fill_between(depths, up[:,2], lo[:,2], color=\"b\")\n",
    "ax.plot(depths, med[:,2], c=\"b\", label=\"Train {}\".format(metric))\n",
    "ax.fill_between(depths, up[:,5], lo[:,5], color=\"r\")\n",
    "ax.plot(depths, med[:,5], c=\"r\", label=\"Test {}\".format(metric))\n",
    "ax.legend()\n",
    "\n",
    "\n",
    "plt.subplots_adjust(hspace=0.3)\n",
    "plt.savefig(\"dt.pdf\")\n",
    "plt.show()\n"
   ]
  },
  {
   "cell_type": "markdown",
   "metadata": {},
   "source": [
    "## Decision Tree\n",
    "### Threshold Selection"
   ]
  },
  {
   "cell_type": "code",
   "execution_count": 10,
   "metadata": {},
   "outputs": [
    {
     "name": "stdout",
     "output_type": "stream",
     "text": [
      "Threshold to achieve Sensitivity of 0.95: 0.007246376811594203\n",
      "     pred_neg  pred_pos\n",
      "neg        32       983\n",
      "pos        24       976\n",
      "Sensitivity (Recall): 0.976\n",
      "Specificity         : 0.03152709359605911\n"
     ]
    },
    {
     "data": {
      "image/png": "[encoded data removed]",
      "text/plain": [
       "<Figure size 576x576 with 1 Axes>"
      ]
     },
     "metadata": {
      "needs_background": "light"
     },
     "output_type": "display_data"
    }
   ],
   "source": [
    "# optimal depth appears to be 9\n",
    "X_train, X_test = ml_train[X_cols], ml_val[X_cols]\n",
    "y_train, y_test = np.where(ml_train[y_cols]==\"Danger\",1,0), np.where(ml_val[y_cols]==\"Danger\",1,0)\n",
    "clf = DecisionTreeClassifier(random_state=0,\n",
    "                        max_depth=8).fit(X_train,y_train)\n",
    "# get y_hat\n",
    "y_hat = clf.predict_proba(X_test)[:, 1]\n",
    "\n",
    "p, r, thresholds = tu.precision_recall_curve(y_test, y_hat)\n",
    "\n",
    "target_r = 0.95\n",
    "t_opt_dt = thresholds[np.argmin(np.abs(r-target_r))]\n",
    "print(\"Threshold to achieve Sensitivity of {}: {}\".format(target_r, t_opt_dt))\n",
    "\n",
    "tu.precision_recall_threshold(p, r, thresholds, y_hat, y_test, t= t_opt_dt)"
   ]
  },
  {
   "cell_type": "markdown",
   "metadata": {},
   "source": [
    "# Save Models in Pipeline\n",
    "Save the models so that they can be easily reloaded"
   ]
  },
  {
   "cell_type": "code",
   "execution_count": 11,
   "metadata": {},
   "outputs": [
    {
     "data": {
      "text/plain": [
       "['/home/matthew/Documents/GapWatch/common/model/training/n3060_dif/n3060_dif_dt.pkl']"
      ]
     },
     "execution_count": 11,
     "metadata": {},
     "output_type": "execute_result"
    }
   ],
   "source": [
    "from joblib import dump, load\n",
    "\n",
    "# config utilities\n",
    "from common.data.labels.app.config_utils import JSONPropertiesFile\n",
    "\n",
    "# logistic regression\n",
    "# make sure we can automatically select the variables in X that LR expects\n",
    "# don't want to be creating a dataframe every time this pipeline is called as that will get\n",
    "# expensive quickly\n",
    "# load in the model headers\n",
    "m_loc = \"common.model.training.n3060_dif.n3060_dif\" # dataset configuration file\n",
    "lr_model_store = \"common/model/training/n3060_dif/n3060_dif_lr.pkl\"\n",
    "scaler_step_name = \"scaler\"\n",
    "headers = m.const_header()\n",
    "lr_sel_headers = [True if i in X_cols_0 else False for i in headers]\n",
    "\n",
    "# write a config file\n",
    "lr_CONFIG_FILE_LOC = \"lr_config.json\"\n",
    "lr_default_properties = {\n",
    "    'name'        : 'lr',\n",
    "    'headers'     : headers,\n",
    "    'sel_headers' : lr_sel_headers,\n",
    "    'model_store' : os.path.join(git_root, lr_model_store),\n",
    "    'm_loc'       : m_loc,\n",
    "    'n_prev'      : 1,\n",
    "    'scaler'      : scaler_step_name\n",
    "}\n",
    "config_file = JSONPropertiesFile(lr_CONFIG_FILE_LOC, lr_default_properties)\n",
    "config = config_file.get()\n",
    "config_file.set(config)\n",
    "# dump the logistic regression model\n",
    "X_train, X_test = ml_train[X_cols_0], ml_val[X_cols_0] # recall that these are the variables it uses\n",
    "y_train, y_test = np.where(ml_train[y_cols]==\"Danger\",1,0), np.where(ml_val[y_cols]==\"Danger\",1,0)\n",
    "\n",
    "lr_pipe = Pipeline([(scaler_step_name, StandardScaler()),\n",
    "                  ('lr', LogisticRegression(random_state=0,\n",
    "                                           solver=\"sag\"))])\n",
    "lr_pipe.fit(X_train, y_train)\n",
    "lr_pipe.score(X_test, y_test)\n",
    "dump(lr_pipe, os.path.join(git_root,lr_model_store))\n",
    "\n",
    "\n",
    "# store decision tree model\n",
    "dt_model_store = \"common/model/training/n3060_dif/n3060_dif_dt.pkl\"\n",
    "headers = m.const_header()\n",
    "dt_sel_headers = [True if i in X_cols else False for i in headers]\n",
    "\n",
    "# write a config file\n",
    "dt_CONFIG_FILE_LOC = \"dt_config.json\"\n",
    "dt_default_properties = {\n",
    "    'name'        : 'dt',\n",
    "    'headers'     : headers,\n",
    "    'sel_headers' : dt_sel_headers,\n",
    "    'model_store' : os.path.join(git_root, dt_model_store),\n",
    "    'm_loc'       : m_loc,\n",
    "    'n_prev'      : 1,\n",
    "    'scaler'      : scaler_step_name  \n",
    "}\n",
    "config_file = JSONPropertiesFile(dt_CONFIG_FILE_LOC, dt_default_properties)\n",
    "config = config_file.get()\n",
    "config_file.set(config)\n",
    "# dump the decision tree classifier model\n",
    "X_train, X_test = ml_train[X_cols], ml_val[X_cols] # recall that these are the variables it uses\n",
    "y_train, y_test = np.where(ml_train[y_cols]==\"Danger\",1,0), np.where(ml_val[y_cols]==\"Danger\",1,0)\n",
    "\n",
    "dt_pipe = Pipeline([(scaler_step_name, StandardScaler()),\n",
    "                 ('dt', DecisionTreeClassifier(random_state=0,\n",
    "                        max_depth=9))])\n",
    "dt_pipe.fit(X_train, y_train)\n",
    "dt_pipe.score(X_test, y_test)\n",
    "dump(dt_pipe, os.path.join(git_root,dt_model_store))"
   ]
  },
  {
   "cell_type": "markdown",
   "metadata": {},
   "source": [
    "# Compare Models\n",
    "Simulated live inference.\n",
    "Find a video in the test set with a Dangerous scene and observe how:\n",
    "\n",
    "1. Predictors change\n",
    "2. Model predictions change"
   ]
  },
  {
   "cell_type": "code",
   "execution_count": 12,
   "metadata": {},
   "outputs": [
    {
     "name": "stdout",
     "output_type": "stream",
     "text": [
      "The camera was initialised: True\n"
     ]
    },
    {
     "name": "stderr",
     "output_type": "stream",
     "text": [
      "  0% (5 of 3894) |                       | Elapsed Time: 0:00:00 ETA:   0:01:18"
     ]
    },
    {
     "name": "stdout",
     "output_type": "stream",
     "text": [
      "Models loaded\n",
      "\n",
      "\n",
      "MODEL dt: \n",
      " -*--*--*--*--*--*--*--*--*--*- \n",
      "Features: \n",
      "{'mean': True, 'd_mean': True, 'var': True, 'd_var': True, 'kurt': True, 'd_kurt': True, 'skew': True, 'd_skew': True, 'mfcc_0': True, 'mfcc_1': True, 'mfcc_2': True, 'mfcc_3': True, 'mfcc_4': True, 'mfcc_5': True, 'mfcc_6': True, 'mfcc_7': True, 'mfcc_8': True, 'mfcc_9': True, 'd_mfcc_0': True, 'd_mfcc_1': True, 'd_mfcc_2': True, 'd_mfcc_3': True, 'd_mfcc_4': True, 'd_mfcc_5': True, 'd_mfcc_6': True, 'd_mfcc_7': True, 'd_mfcc_8': True, 'd_mfcc_9': True}\n",
      "Mean: \n",
      "[-2.47827407e-01  1.15414363e-03  1.11834440e-01  1.29121134e-02\n",
      "  3.68792298e-01  1.61848945e+02  3.99407521e-01  1.00367886e-01\n",
      "  5.92084706e+02  1.41156110e+02 -1.50016082e+01  2.34892588e+01\n",
      "  4.30748806e+01 -3.30341780e+01  4.91243092e+01 -2.14600003e+01\n",
      "  1.79068708e+01  1.34148651e+01  4.04359640e-01 -1.83652417e-01\n",
      " -1.65928711e-01  4.16454829e-02  1.62246438e-02 -4.48784093e-02\n",
      "  9.90967287e-02 -9.11176906e-02 -2.38647181e-01 -7.95445377e-02]\n",
      "Variance: \n",
      "[1.71108949e-02 4.53967453e-04 2.71321060e-03 8.09728602e-04\n",
      " 1.39485023e+00 1.31992825e+05 1.95750859e-01 9.24237794e+00\n",
      " 2.53773190e+03 9.17765071e+02 2.17672239e+02 1.08842083e+02\n",
      " 3.98869963e+01 6.45249833e+01 5.27157404e+01 5.51329066e+01\n",
      " 2.10245912e+01 2.26731987e+01 3.29847586e+02 7.81729366e+01\n",
      " 5.47669750e+01 4.10427001e+01 4.14007500e+01 6.81402632e+01\n",
      " 4.98356137e+01 4.67808550e+01 2.83593296e+01 3.22344092e+01]\n",
      "\n",
      "\n",
      "MODEL lr: \n",
      " -*--*--*--*--*--*--*--*--*--*- \n",
      "Features: \n",
      "{'mean': True, 'd_mean': False, 'var': True, 'd_var': True, 'kurt': True, 'd_kurt': False, 'skew': True, 'd_skew': False, 'mfcc_0': True, 'mfcc_1': False, 'mfcc_2': True, 'mfcc_3': True, 'mfcc_4': True, 'mfcc_5': False, 'mfcc_6': True, 'mfcc_7': True, 'mfcc_8': True, 'mfcc_9': False, 'd_mfcc_0': True, 'd_mfcc_1': True, 'd_mfcc_2': False, 'd_mfcc_3': False, 'd_mfcc_4': True, 'd_mfcc_5': True, 'd_mfcc_6': False, 'd_mfcc_7': True, 'd_mfcc_8': False, 'd_mfcc_9': True}\n",
      "Mean: \n",
      "[-2.47827407e-01  1.11834440e-01  1.29121134e-02  3.68792298e-01\n",
      "  3.99407521e-01  5.92084706e+02 -1.50016082e+01  2.34892588e+01\n",
      "  4.30748806e+01  4.91243092e+01 -2.14600003e+01  1.79068708e+01\n",
      "  4.04359640e-01 -1.83652417e-01  1.62246438e-02 -4.48784093e-02\n",
      " -9.11176906e-02 -7.95445377e-02]\n",
      "Variance: \n",
      "[1.71108949e-02 2.71321060e-03 8.09728602e-04 1.39485023e+00\n",
      " 1.95750859e-01 2.53773190e+03 2.17672239e+02 1.08842083e+02\n",
      " 3.98869963e+01 5.27157404e+01 5.51329066e+01 2.10245912e+01\n",
      " 3.29847586e+02 7.81729366e+01 4.14007500e+01 6.81402632e+01\n",
      " 4.67808550e+01 3.22344092e+01]\n"
     ]
    },
    {
     "name": "stderr",
     "output_type": "stream",
     "text": [
      "100% (3894 of 3894) |####################| Elapsed Time: 0:01:31 Time:  0:01:31\n"
     ]
    },
    {
     "name": "stdout",
     "output_type": "stream",
     "text": [
      "Effective Frame Rate: 42.45942081199313\n",
      "Releasing Camera and Microphone\n"
     ]
    }
   ],
   "source": [
    "# select a video\n",
    "import common.model.training.general_demo as demo\n",
    "vid_url = ml_test.loc[(ml_test[headers[0]]==\"Danger\")&(ml_test[headers[2]] > 100), headers[1]].values[0]\n",
    "out_file = os.path.join(git_root,\"common/model/training/n3060_dif/n3060_dif_inference.csv\") # save the demo data here\n",
    "# do the demo\n",
    "demo_df = demo.inference_demo(vid_url, out_file, [dt_CONFIG_FILE_LOC,\n",
    "                                                 lr_CONFIG_FILE_LOC])"
   ]
  },
  {
   "cell_type": "code",
   "execution_count": 20,
   "metadata": {},
   "outputs": [
    {
     "data": {
      "text/html": [
       "<div>\n",
       "<style scoped>\n",
       "    .dataframe tbody tr th:only-of-type {\n",
       "        vertical-align: middle;\n",
       "    }\n",
       "\n",
       "    .dataframe tbody tr th {\n",
       "        vertical-align: top;\n",
       "    }\n",
       "\n",
       "    .dataframe thead th {\n",
       "        text-align: right;\n",
       "    }\n",
       "</style>\n",
       "<table border=\"1\" class=\"dataframe\">\n",
       "  <thead>\n",
       "    <tr style=\"text-align: right;\">\n",
       "      <th></th>\n",
       "      <th>0</th>\n",
       "      <th>1</th>\n",
       "      <th>2</th>\n",
       "      <th>3</th>\n",
       "      <th>4</th>\n",
       "      <th>5</th>\n",
       "      <th>6</th>\n",
       "      <th>7</th>\n",
       "      <th>8</th>\n",
       "      <th>9</th>\n",
       "      <th>...</th>\n",
       "      <th>20</th>\n",
       "      <th>21</th>\n",
       "      <th>22</th>\n",
       "      <th>23</th>\n",
       "      <th>24</th>\n",
       "      <th>25</th>\n",
       "      <th>26</th>\n",
       "      <th>27</th>\n",
       "      <th>28</th>\n",
       "      <th>29</th>\n",
       "    </tr>\n",
       "  </thead>\n",
       "  <tbody>\n",
       "    <tr>\n",
       "      <th>count</th>\n",
       "      <td>3894.000000</td>\n",
       "      <td>3894.0</td>\n",
       "      <td>3894.000000</td>\n",
       "      <td>3894.000000</td>\n",
       "      <td>3894.000000</td>\n",
       "      <td>3894.000000</td>\n",
       "      <td>3894.000000</td>\n",
       "      <td>3894.000000</td>\n",
       "      <td>3894.000000</td>\n",
       "      <td>3894.000000</td>\n",
       "      <td>...</td>\n",
       "      <td>3894.000000</td>\n",
       "      <td>3894.000000</td>\n",
       "      <td>3894.000000</td>\n",
       "      <td>3894.000000</td>\n",
       "      <td>3894.000000</td>\n",
       "      <td>3894.000000</td>\n",
       "      <td>3894.000000</td>\n",
       "      <td>3894.000000</td>\n",
       "      <td>3894.000000</td>\n",
       "      <td>3894.000000</td>\n",
       "    </tr>\n",
       "    <tr>\n",
       "      <th>mean</th>\n",
       "      <td>0.968635</td>\n",
       "      <td>0.0</td>\n",
       "      <td>112.196109</td>\n",
       "      <td>-0.000511</td>\n",
       "      <td>1626.555052</td>\n",
       "      <td>27.412236</td>\n",
       "      <td>-0.229740</td>\n",
       "      <td>92.886622</td>\n",
       "      <td>0.186842</td>\n",
       "      <td>0.023712</td>\n",
       "      <td>...</td>\n",
       "      <td>-0.010336</td>\n",
       "      <td>0.003057</td>\n",
       "      <td>-0.001424</td>\n",
       "      <td>-0.002124</td>\n",
       "      <td>0.000019</td>\n",
       "      <td>-0.003492</td>\n",
       "      <td>-0.000540</td>\n",
       "      <td>-0.003935</td>\n",
       "      <td>-0.000444</td>\n",
       "      <td>-0.001218</td>\n",
       "    </tr>\n",
       "    <tr>\n",
       "      <th>std</th>\n",
       "      <td>0.174162</td>\n",
       "      <td>0.0</td>\n",
       "      <td>8.687841</td>\n",
       "      <td>0.468635</td>\n",
       "      <td>237.963808</td>\n",
       "      <td>85.249414</td>\n",
       "      <td>0.188212</td>\n",
       "      <td>452.120572</td>\n",
       "      <td>0.137848</td>\n",
       "      <td>3.197623</td>\n",
       "      <td>...</td>\n",
       "      <td>11.894792</td>\n",
       "      <td>8.371272</td>\n",
       "      <td>6.552228</td>\n",
       "      <td>5.796237</td>\n",
       "      <td>6.470407</td>\n",
       "      <td>7.975232</td>\n",
       "      <td>7.028459</td>\n",
       "      <td>6.772855</td>\n",
       "      <td>5.045116</td>\n",
       "      <td>5.494165</td>\n",
       "    </tr>\n",
       "    <tr>\n",
       "      <th>min</th>\n",
       "      <td>0.000000</td>\n",
       "      <td>0.0</td>\n",
       "      <td>77.167000</td>\n",
       "      <td>-9.508474</td>\n",
       "      <td>1282.493042</td>\n",
       "      <td>0.000000</td>\n",
       "      <td>-0.924389</td>\n",
       "      <td>-3.000000</td>\n",
       "      <td>0.035391</td>\n",
       "      <td>-100.945534</td>\n",
       "      <td>...</td>\n",
       "      <td>-124.131470</td>\n",
       "      <td>-63.427849</td>\n",
       "      <td>-34.136971</td>\n",
       "      <td>-44.416431</td>\n",
       "      <td>-27.463802</td>\n",
       "      <td>-29.960337</td>\n",
       "      <td>-23.510319</td>\n",
       "      <td>-26.433100</td>\n",
       "      <td>-24.499767</td>\n",
       "      <td>-28.344984</td>\n",
       "    </tr>\n",
       "    <tr>\n",
       "      <th>25%</th>\n",
       "      <td>1.000000</td>\n",
       "      <td>0.0</td>\n",
       "      <td>108.706429</td>\n",
       "      <td>-0.095486</td>\n",
       "      <td>1450.628418</td>\n",
       "      <td>0.243690</td>\n",
       "      <td>-0.356883</td>\n",
       "      <td>6.845720</td>\n",
       "      <td>0.089305</td>\n",
       "      <td>-0.354441</td>\n",
       "      <td>...</td>\n",
       "      <td>-6.939575</td>\n",
       "      <td>-5.327698</td>\n",
       "      <td>-4.177338</td>\n",
       "      <td>-3.501821</td>\n",
       "      <td>-4.190241</td>\n",
       "      <td>-5.147231</td>\n",
       "      <td>-4.741015</td>\n",
       "      <td>-4.403057</td>\n",
       "      <td>-3.399629</td>\n",
       "      <td>-3.599818</td>\n",
       "    </tr>\n",
       "    <tr>\n",
       "      <th>50%</th>\n",
       "      <td>1.000000</td>\n",
       "      <td>0.0</td>\n",
       "      <td>115.867058</td>\n",
       "      <td>-0.002160</td>\n",
       "      <td>1630.176270</td>\n",
       "      <td>14.490294</td>\n",
       "      <td>-0.295469</td>\n",
       "      <td>33.171761</td>\n",
       "      <td>0.161421</td>\n",
       "      <td>-0.006852</td>\n",
       "      <td>...</td>\n",
       "      <td>0.137543</td>\n",
       "      <td>-0.110561</td>\n",
       "      <td>0.117155</td>\n",
       "      <td>-0.031082</td>\n",
       "      <td>0.046719</td>\n",
       "      <td>-0.117221</td>\n",
       "      <td>-0.175083</td>\n",
       "      <td>-0.068669</td>\n",
       "      <td>-0.040403</td>\n",
       "      <td>-0.033352</td>\n",
       "    </tr>\n",
       "    <tr>\n",
       "      <th>75%</th>\n",
       "      <td>1.000000</td>\n",
       "      <td>0.0</td>\n",
       "      <td>117.780235</td>\n",
       "      <td>0.089946</td>\n",
       "      <td>1719.605347</td>\n",
       "      <td>30.196594</td>\n",
       "      <td>-0.085315</td>\n",
       "      <td>78.060104</td>\n",
       "      <td>0.203938</td>\n",
       "      <td>0.266170</td>\n",
       "      <td>...</td>\n",
       "      <td>7.003098</td>\n",
       "      <td>5.140245</td>\n",
       "      <td>4.095397</td>\n",
       "      <td>3.480680</td>\n",
       "      <td>4.166553</td>\n",
       "      <td>5.174374</td>\n",
       "      <td>4.720537</td>\n",
       "      <td>4.453506</td>\n",
       "      <td>3.258445</td>\n",
       "      <td>3.470910</td>\n",
       "    </tr>\n",
       "    <tr>\n",
       "      <th>max</th>\n",
       "      <td>1.000000</td>\n",
       "      <td>0.0</td>\n",
       "      <td>128.041290</td>\n",
       "      <td>14.768363</td>\n",
       "      <td>3541.093018</td>\n",
       "      <td>1671.513062</td>\n",
       "      <td>0.499254</td>\n",
       "      <td>14116.846680</td>\n",
       "      <td>0.636369</td>\n",
       "      <td>56.935181</td>\n",
       "      <td>...</td>\n",
       "      <td>106.300964</td>\n",
       "      <td>51.096436</td>\n",
       "      <td>48.318203</td>\n",
       "      <td>52.914818</td>\n",
       "      <td>23.822414</td>\n",
       "      <td>34.072189</td>\n",
       "      <td>24.488411</td>\n",
       "      <td>24.779417</td>\n",
       "      <td>20.930897</td>\n",
       "      <td>23.661131</td>\n",
       "    </tr>\n",
       "  </tbody>\n",
       "</table>\n",
       "<p>8 rows × 30 columns</p>\n",
       "</div>"
      ],
      "text/plain": [
       "                0       1            2            3            4   \\\n",
       "count  3894.000000  3894.0  3894.000000  3894.000000  3894.000000   \n",
       "mean      0.968635     0.0   112.196109    -0.000511  1626.555052   \n",
       "std       0.174162     0.0     8.687841     0.468635   237.963808   \n",
       "min       0.000000     0.0    77.167000    -9.508474  1282.493042   \n",
       "25%       1.000000     0.0   108.706429    -0.095486  1450.628418   \n",
       "50%       1.000000     0.0   115.867058    -0.002160  1630.176270   \n",
       "75%       1.000000     0.0   117.780235     0.089946  1719.605347   \n",
       "max       1.000000     0.0   128.041290    14.768363  3541.093018   \n",
       "\n",
       "                5            6             7            8            9   ...  \\\n",
       "count  3894.000000  3894.000000   3894.000000  3894.000000  3894.000000  ...   \n",
       "mean     27.412236    -0.229740     92.886622     0.186842     0.023712  ...   \n",
       "std      85.249414     0.188212    452.120572     0.137848     3.197623  ...   \n",
       "min       0.000000    -0.924389     -3.000000     0.035391  -100.945534  ...   \n",
       "25%       0.243690    -0.356883      6.845720     0.089305    -0.354441  ...   \n",
       "50%      14.490294    -0.295469     33.171761     0.161421    -0.006852  ...   \n",
       "75%      30.196594    -0.085315     78.060104     0.203938     0.266170  ...   \n",
       "max    1671.513062     0.499254  14116.846680     0.636369    56.935181  ...   \n",
       "\n",
       "                20           21           22           23           24  \\\n",
       "count  3894.000000  3894.000000  3894.000000  3894.000000  3894.000000   \n",
       "mean     -0.010336     0.003057    -0.001424    -0.002124     0.000019   \n",
       "std      11.894792     8.371272     6.552228     5.796237     6.470407   \n",
       "min    -124.131470   -63.427849   -34.136971   -44.416431   -27.463802   \n",
       "25%      -6.939575    -5.327698    -4.177338    -3.501821    -4.190241   \n",
       "50%       0.137543    -0.110561     0.117155    -0.031082     0.046719   \n",
       "75%       7.003098     5.140245     4.095397     3.480680     4.166553   \n",
       "max     106.300964    51.096436    48.318203    52.914818    23.822414   \n",
       "\n",
       "                25           26           27           28           29  \n",
       "count  3894.000000  3894.000000  3894.000000  3894.000000  3894.000000  \n",
       "mean     -0.003492    -0.000540    -0.003935    -0.000444    -0.001218  \n",
       "std       7.975232     7.028459     6.772855     5.045116     5.494165  \n",
       "min     -29.960337   -23.510319   -26.433100   -24.499767   -28.344984  \n",
       "25%      -5.147231    -4.741015    -4.403057    -3.399629    -3.599818  \n",
       "50%      -0.117221    -0.175083    -0.068669    -0.040403    -0.033352  \n",
       "75%       5.174374     4.720537     4.453506     3.258445     3.470910  \n",
       "max      34.072189    24.488411    24.779417    20.930897    23.661131  \n",
       "\n",
       "[8 rows x 30 columns]"
      ]
     },
     "execution_count": 20,
     "metadata": {},
     "output_type": "execute_result"
    }
   ],
   "source": [
    "# add column names\n",
    "demo_df.describe()"
   ]
  },
  {
   "cell_type": "code",
   "execution_count": 14,
   "metadata": {},
   "outputs": [
    {
     "data": {
      "text/plain": [
       "'/home/matthew/Documents/GapWatch/common/data/labels/app/static/92.mp4'"
      ]
     },
     "execution_count": 14,
     "metadata": {},
     "output_type": "execute_result"
    }
   ],
   "source": [
    "vid_url"
   ]
  },
  {
   "cell_type": "code",
   "execution_count": 15,
   "metadata": {},
   "outputs": [
    {
     "data": {
      "text/plain": [
       "[<matplotlib.lines.Line2D at 0x7fd88152c050>]"
      ]
     },
     "execution_count": 15,
     "metadata": {},
     "output_type": "execute_result"
    },
    {
     "data": {
      "image/png": "[encoded data removed]",
      "text/plain": [
       "<Figure size 432x288 with 1 Axes>"
      ]
     },
     "metadata": {
      "needs_background": "light"
     },
     "output_type": "display_data"
    }
   ],
   "source": [
    "y_hat_lr_score = lr_pipe.predict_proba(ml_df.loc[ml_df[headers[1]]==vid_url,X_cols_0])[:,1]\n",
    "y_hat_dt_score = dt_pipe.predict_proba(ml_df.loc[ml_df[headers[1]]==vid_url,X_cols])[:,1]\n",
    "\n",
    "# convert the scores to predictions using threshold\n",
    "y_hat_lr = np.where(y_hat_lr_score>t_opt_lr,1,0)\n",
    "y_hat_dt = np.where(y_hat_dt_score>t_opt_dt,1,0)\n",
    "\n",
    "frames = ml_df.loc[ml_df[headers[1]]==vid_url, headers[2]]\n",
    "plt.plot(frames, y_hat_lr, color=\"r\")\n",
    "plt.plot(frames, y_hat_dt, color=\"b\")\n",
    "y_true = np.where((frames>=1686)&(frames<=2120),1,0)\n",
    "plt.plot(frames, y_true, color = \"g\")"
   ]
  },
  {
   "cell_type": "code",
   "execution_count": 16,
   "metadata": {},
   "outputs": [
    {
     "data": {
      "text/plain": [
       "[<matplotlib.lines.Line2D at 0x7fd881dc8e90>]"
      ]
     },
     "execution_count": 16,
     "metadata": {},
     "output_type": "execute_result"
    },
    {
     "data": {
      "image/png": "[encoded data removed]",
      "text/plain": [
       "<Figure size 432x288 with 1 Axes>"
      ]
     },
     "metadata": {
      "needs_background": "light"
     },
     "output_type": "display_data"
    }
   ],
   "source": [
    "y_hat_lr = lr_pipe.predict_proba(ml_df.loc[ml_df[headers[1]]==vid_url,X_cols_0])[:,1]\n",
    "y_hat_dt = dt_pipe.predict_proba(ml_df.loc[ml_df[headers[1]]==vid_url,X_cols])[:,1]\n",
    "\n",
    "frames = ml_df.loc[ml_df[headers[1]]==vid_url, headers[2]]\n",
    "plt.plot(frames, y_hat_lr, color=\"r\")\n",
    "plt.plot(frames, y_hat_dt, color=\"b\")\n",
    "y_true = np.where((frames>=1686)&(frames<=2120),1,0)\n",
    "plt.plot(frames, y_true, color = \"g\")"
   ]
  },
  {
   "cell_type": "code",
   "execution_count": 17,
   "metadata": {},
   "outputs": [
    {
     "data": {
      "text/plain": [
       "array([1.71108949e-02, 2.71321060e-03, 8.09728602e-04, 1.39485023e+00,\n",
       "       1.95750859e-01, 2.53773190e+03, 2.17672239e+02, 1.08842083e+02,\n",
       "       3.98869963e+01, 5.27157404e+01, 5.51329066e+01, 2.10245912e+01,\n",
       "       3.29847586e+02, 7.81729366e+01, 4.14007500e+01, 6.81402632e+01,\n",
       "       4.67808550e+01, 3.22344092e+01])"
      ]
     },
     "execution_count": 17,
     "metadata": {},
     "output_type": "execute_result"
    }
   ],
   "source": [
    "lr_pipe.named_steps[\"scaler\"].var_"
   ]
  },
  {
   "cell_type": "code",
   "execution_count": 18,
   "metadata": {},
   "outputs": [
    {
     "data": {
      "text/plain": [
       "array(['mean', 'd_mean', 'var', 'd_var', 'kurt', 'd_kurt', 'skew',\n",
       "       'd_skew', 'mfcc_0', 'mfcc_1', 'mfcc_2', 'mfcc_3', 'mfcc_4',\n",
       "       'mfcc_5', 'mfcc_6', 'mfcc_7', 'mfcc_8', 'mfcc_9', 'd_mfcc_0',\n",
       "       'd_mfcc_1', 'd_mfcc_2', 'd_mfcc_3', 'd_mfcc_4', 'd_mfcc_5',\n",
       "       'd_mfcc_6', 'd_mfcc_7', 'd_mfcc_8', 'd_mfcc_9'], dtype=object)"
      ]
     },
     "execution_count": 18,
     "metadata": {},
     "output_type": "execute_result"
    }
   ],
   "source": [
    "X_cols"
   ]
  },
  {
   "cell_type": "code",
   "execution_count": 19,
   "metadata": {},
   "outputs": [
    {
     "data": {
      "text/plain": [
       "{'label': False,\n",
       " 'video_url': False,\n",
       " 'frame': False,\n",
       " 'mean': True,\n",
       " 'd_mean': False,\n",
       " 'var': True,\n",
       " 'd_var': True,\n",
       " 'kurt': True,\n",
       " 'd_kurt': False,\n",
       " 'skew': True,\n",
       " 'd_skew': False,\n",
       " 'mfcc_0': True,\n",
       " 'mfcc_1': False,\n",
       " 'mfcc_2': True,\n",
       " 'mfcc_3': True,\n",
       " 'mfcc_4': True,\n",
       " 'mfcc_5': False,\n",
       " 'mfcc_6': True,\n",
       " 'mfcc_7': True,\n",
       " 'mfcc_8': True,\n",
       " 'mfcc_9': False,\n",
       " 'd_mfcc_0': True,\n",
       " 'd_mfcc_1': True,\n",
       " 'd_mfcc_2': False,\n",
       " 'd_mfcc_3': False,\n",
       " 'd_mfcc_4': True,\n",
       " 'd_mfcc_5': True,\n",
       " 'd_mfcc_6': False,\n",
       " 'd_mfcc_7': True,\n",
       " 'd_mfcc_8': False,\n",
       " 'd_mfcc_9': True}"
      ]
     },
     "execution_count": 19,
     "metadata": {},
     "output_type": "execute_result"
    }
   ],
   "source": [
    "dict(zip(headers, lr_sel_headers))"
   ]
  },
  {
   "cell_type": "code",
   "execution_count": null,
   "metadata": {},
   "outputs": [],
   "source": []
  }
 ],
 "metadata": {
  "kernelspec": {
   "display_name": "Python 3",
   "language": "python",
   "name": "python3"
  },
  "language_info": {
   "codemirror_mode": {
    "name": "ipython",
    "version": 3
   },
   "file_extension": ".py",
   "mimetype": "text/x-python",
   "name": "python",
   "nbconvert_exporter": "python",
   "pygments_lexer": "ipython3",
   "version": "3.7.6"
  }
 },
 "nbformat": 4,
 "nbformat_minor": 2
}
