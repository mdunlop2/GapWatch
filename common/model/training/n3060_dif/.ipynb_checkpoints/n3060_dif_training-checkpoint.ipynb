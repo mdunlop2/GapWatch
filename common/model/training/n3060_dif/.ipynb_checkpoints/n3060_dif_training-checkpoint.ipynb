{
 "cells": [
  {
   "cell_type": "markdown",
   "metadata": {},
   "source": [
    "# First Order Differential Model\n",
    "\n",
    "Expands upon the simple set of features used in `n3060_std` by taking their frame-to-frame differential, the difference between the current frame and the most recent frame observed.\n",
    "\n",
    "#### *Why include differences?*\n",
    "\n",
    "The image and audio processes in the field are dependent on numerous factors (wind, time of day, weather)\n",
    "and so the value of the features generated at any one time are not actuallystationary processes,\n",
    "there are variations but the processes are the cumulative sum of these variations.\n",
    "In time-series analysis, to deal with such processes one needs to apply a differential,\n",
    "where by we use the rate of change of the features as inputs to the model.\n",
    "\n",
    "To achieve this, the model needs to have not only the most recent frame available, but also\n",
    "the previous frame. It then finds the difference between these and proceeds as with n3060_std in\n",
    "feature extraction.\n",
    "\n",
    "#### *Potential Deployment Issues*\n",
    "\n",
    "The dataset that was generated here assumes that the model can operate at a constant 30 frames per second - so the difference observed is simply the difference in the underlying processes over 1/30th of a second. If the model when deployed is not able to obtain 30 frames per second then it is likely that the results will be different to those when training the model since the differences will occur over a longer time period.\n",
    "\n",
    "A potential way to mitigate this in deployment is to scale the numerical difference by the time between frames. For example, if a the deployed frame-rate is only 15 frames per second then there is 1/15 second between frames and the feature values should therefore be halved.\n",
    "Essentially we are assuming that:\n",
    "\n",
    "$$\\frac{\\partial_{\\text{process}}}{\\partial_{\\text{time}}} = c$$\n",
    "for some constant c.\n",
    "\n",
    "Numerically this is:\n",
    "$$\\frac{\\Delta_{\\text{process}}}{\\Delta_{\\text{time}}} = c$$\n",
    "where we have $\\Delta_{\\text{time}}$ as the time between frames."
   ]
  },
  {
   "cell_type": "code",
   "execution_count": 1,
   "metadata": {},
   "outputs": [
    {
     "name": "stdout",
     "output_type": "stream",
     "text": [
      "Dataframe Header: \n",
      "['mean' 'd_mean' 'var' 'd_var' 'kurt' 'd_kurt' 'skew' 'd_skew' 'mfcc_0'\n",
      " 'mfcc_1' 'mfcc_2' 'mfcc_3' 'mfcc_4' 'mfcc_5' 'mfcc_6' 'mfcc_7' 'mfcc_8'\n",
      " 'mfcc_9' 'd_mfcc_0' 'd_mfcc_1' 'd_mfcc_2' 'd_mfcc_3' 'd_mfcc_4'\n",
      " 'd_mfcc_5' 'd_mfcc_6' 'd_mfcc_7' 'd_mfcc_8' 'd_mfcc_9' 'label'\n",
      " 'video_url' 'frame']\n"
     ]
    }
   ],
   "source": [
    "# load model and data and any imports\n",
    "# imports and model specific settings\n",
    "# perform imports\n",
    "import numpy as np\n",
    "import pandas as pd\n",
    "from pathlib import Path\n",
    "\n",
    "# standard libraries\n",
    "import importlib, argparse, os.path, os, sys, time, sqlite3, subprocess, progressbar\n",
    "\n",
    "# attempt to import the model itself\n",
    "# Add the git root directory to python path\n",
    "# unfortunately need to do this manually because Jupyter\n",
    "# sets the current working directory to the location of the notebook .ipynb file\n",
    "git_root = \"/home/matthew/Documents/GapWatch\"\n",
    "model_module = \"common.model.training.n3060_dif.n3060_dif\"\n",
    "data_path = \"common/model/training/n3060_dif/n3060_dif.csv\"\n",
    "sys.path.insert(0,git_root)\n",
    "\n",
    "# import the model\n",
    "m = importlib.import_module(model_module)\n",
    "\n",
    "# import the data\n",
    "df = pd.read_csv(os.path.join(git_root,data_path))\n",
    "\n",
    "headers = df.columns.values\n",
    "print(\"Dataframe Header: \\n{}\".format(headers))"
   ]
  },
  {
   "cell_type": "code",
   "execution_count": 2,
   "metadata": {},
   "outputs": [
    {
     "data": {
      "text/html": [
       "<div>\n",
       "<style scoped>\n",
       "    .dataframe tbody tr th:only-of-type {\n",
       "        vertical-align: middle;\n",
       "    }\n",
       "\n",
       "    .dataframe tbody tr th {\n",
       "        vertical-align: top;\n",
       "    }\n",
       "\n",
       "    .dataframe thead th {\n",
       "        text-align: right;\n",
       "    }\n",
       "</style>\n",
       "<table border=\"1\" class=\"dataframe\">\n",
       "  <thead>\n",
       "    <tr style=\"text-align: right;\">\n",
       "      <th></th>\n",
       "      <th>mean</th>\n",
       "      <th>d_mean</th>\n",
       "      <th>var</th>\n",
       "      <th>d_var</th>\n",
       "      <th>kurt</th>\n",
       "      <th>d_kurt</th>\n",
       "      <th>skew</th>\n",
       "      <th>d_skew</th>\n",
       "      <th>mfcc_0</th>\n",
       "      <th>mfcc_1</th>\n",
       "      <th>...</th>\n",
       "      <th>d_mfcc_1</th>\n",
       "      <th>d_mfcc_2</th>\n",
       "      <th>d_mfcc_3</th>\n",
       "      <th>d_mfcc_4</th>\n",
       "      <th>d_mfcc_5</th>\n",
       "      <th>d_mfcc_6</th>\n",
       "      <th>d_mfcc_7</th>\n",
       "      <th>d_mfcc_8</th>\n",
       "      <th>d_mfcc_9</th>\n",
       "      <th>frame</th>\n",
       "    </tr>\n",
       "  </thead>\n",
       "  <tbody>\n",
       "    <tr>\n",
       "      <th>count</th>\n",
       "      <td>7.990000e+03</td>\n",
       "      <td>7.990000e+03</td>\n",
       "      <td>7.990000e+03</td>\n",
       "      <td>7.990000e+03</td>\n",
       "      <td>7.990000e+03</td>\n",
       "      <td>7.990000e+03</td>\n",
       "      <td>7.990000e+03</td>\n",
       "      <td>7.990000e+03</td>\n",
       "      <td>7.990000e+03</td>\n",
       "      <td>7.990000e+03</td>\n",
       "      <td>...</td>\n",
       "      <td>7.990000e+03</td>\n",
       "      <td>7.990000e+03</td>\n",
       "      <td>7.990000e+03</td>\n",
       "      <td>7.990000e+03</td>\n",
       "      <td>7.990000e+03</td>\n",
       "      <td>7.990000e+03</td>\n",
       "      <td>7990.000000</td>\n",
       "      <td>7.990000e+03</td>\n",
       "      <td>7.990000e+03</td>\n",
       "      <td>7990.000000</td>\n",
       "    </tr>\n",
       "    <tr>\n",
       "      <th>mean</th>\n",
       "      <td>1.856838e-15</td>\n",
       "      <td>4.624308e-17</td>\n",
       "      <td>-7.487822e-15</td>\n",
       "      <td>1.138291e-16</td>\n",
       "      <td>1.095605e-15</td>\n",
       "      <td>2.769249e-15</td>\n",
       "      <td>1.799923e-15</td>\n",
       "      <td>-8.892900e-18</td>\n",
       "      <td>-5.128358e-14</td>\n",
       "      <td>-3.059158e-16</td>\n",
       "      <td>...</td>\n",
       "      <td>-5.335740e-17</td>\n",
       "      <td>-1.018237e-16</td>\n",
       "      <td>1.511793e-17</td>\n",
       "      <td>4.757702e-17</td>\n",
       "      <td>7.114320e-18</td>\n",
       "      <td>8.892900e-19</td>\n",
       "      <td>0.000000</td>\n",
       "      <td>1.062702e-16</td>\n",
       "      <td>-5.780385e-18</td>\n",
       "      <td>2783.513267</td>\n",
       "    </tr>\n",
       "    <tr>\n",
       "      <th>std</th>\n",
       "      <td>1.000000e+00</td>\n",
       "      <td>1.000000e+00</td>\n",
       "      <td>1.000000e+00</td>\n",
       "      <td>1.000000e+00</td>\n",
       "      <td>1.000000e+00</td>\n",
       "      <td>1.000000e+00</td>\n",
       "      <td>1.000000e+00</td>\n",
       "      <td>1.000000e+00</td>\n",
       "      <td>1.000000e+00</td>\n",
       "      <td>1.000000e+00</td>\n",
       "      <td>...</td>\n",
       "      <td>1.000000e+00</td>\n",
       "      <td>1.000000e+00</td>\n",
       "      <td>1.000000e+00</td>\n",
       "      <td>1.000000e+00</td>\n",
       "      <td>1.000000e+00</td>\n",
       "      <td>1.000000e+00</td>\n",
       "      <td>1.000000</td>\n",
       "      <td>1.000000e+00</td>\n",
       "      <td>1.000000e+00</td>\n",
       "      <td>2526.238345</td>\n",
       "    </tr>\n",
       "    <tr>\n",
       "      <th>min</th>\n",
       "      <td>-5.738447e+00</td>\n",
       "      <td>-8.445772e+00</td>\n",
       "      <td>-1.679914e+00</td>\n",
       "      <td>-4.373713e-01</td>\n",
       "      <td>-2.108405e+00</td>\n",
       "      <td>-4.502170e-01</td>\n",
       "      <td>-6.666701e+00</td>\n",
       "      <td>-1.397398e+01</td>\n",
       "      <td>-7.797694e+00</td>\n",
       "      <td>-4.524755e+00</td>\n",
       "      <td>...</td>\n",
       "      <td>-5.711117e+00</td>\n",
       "      <td>-9.172850e+00</td>\n",
       "      <td>-1.157423e+01</td>\n",
       "      <td>-4.456388e+00</td>\n",
       "      <td>-7.099078e+00</td>\n",
       "      <td>-5.081478e+00</td>\n",
       "      <td>-7.273879</td>\n",
       "      <td>-4.550571e+00</td>\n",
       "      <td>-5.477620e+00</td>\n",
       "      <td>2.000000</td>\n",
       "    </tr>\n",
       "    <tr>\n",
       "      <th>25%</th>\n",
       "      <td>-7.648588e-01</td>\n",
       "      <td>-7.079311e-02</td>\n",
       "      <td>-6.796586e-01</td>\n",
       "      <td>-4.369555e-01</td>\n",
       "      <td>-4.709294e-01</td>\n",
       "      <td>-3.887110e-01</td>\n",
       "      <td>-7.270043e-01</td>\n",
       "      <td>-2.170085e-01</td>\n",
       "      <td>-7.152919e-01</td>\n",
       "      <td>-6.832079e-01</td>\n",
       "      <td>...</td>\n",
       "      <td>-6.247187e-01</td>\n",
       "      <td>-5.901918e-01</td>\n",
       "      <td>-6.121398e-01</td>\n",
       "      <td>-6.700364e-01</td>\n",
       "      <td>-6.183514e-01</td>\n",
       "      <td>-6.355623e-01</td>\n",
       "      <td>-0.653536</td>\n",
       "      <td>-6.563256e-01</td>\n",
       "      <td>-6.756040e-01</td>\n",
       "      <td>683.000000</td>\n",
       "    </tr>\n",
       "    <tr>\n",
       "      <th>50%</th>\n",
       "      <td>1.503487e-02</td>\n",
       "      <td>-3.572084e-02</td>\n",
       "      <td>-4.230174e-01</td>\n",
       "      <td>-3.624927e-01</td>\n",
       "      <td>-7.651889e-02</td>\n",
       "      <td>-3.234445e-01</td>\n",
       "      <td>-2.188330e-01</td>\n",
       "      <td>-1.603243e-03</td>\n",
       "      <td>-2.910347e-01</td>\n",
       "      <td>-3.603069e-01</td>\n",
       "      <td>...</td>\n",
       "      <td>2.322891e-02</td>\n",
       "      <td>1.949097e-02</td>\n",
       "      <td>9.030963e-03</td>\n",
       "      <td>-1.451984e-03</td>\n",
       "      <td>-2.230984e-03</td>\n",
       "      <td>-1.906630e-02</td>\n",
       "      <td>0.020669</td>\n",
       "      <td>-1.906166e-02</td>\n",
       "      <td>-7.334201e-03</td>\n",
       "      <td>1856.500000</td>\n",
       "    </tr>\n",
       "    <tr>\n",
       "      <th>75%</th>\n",
       "      <td>7.365468e-01</td>\n",
       "      <td>-4.628466e-04</td>\n",
       "      <td>4.443883e-01</td>\n",
       "      <td>-1.179739e-01</td>\n",
       "      <td>3.773872e-01</td>\n",
       "      <td>-1.177261e-01</td>\n",
       "      <td>3.410008e-01</td>\n",
       "      <td>1.923541e-01</td>\n",
       "      <td>5.586682e-01</td>\n",
       "      <td>6.835437e-01</td>\n",
       "      <td>...</td>\n",
       "      <td>6.333628e-01</td>\n",
       "      <td>6.054425e-01</td>\n",
       "      <td>5.908974e-01</td>\n",
       "      <td>6.773704e-01</td>\n",
       "      <td>6.458605e-01</td>\n",
       "      <td>6.294449e-01</td>\n",
       "      <td>0.660187</td>\n",
       "      <td>6.536491e-01</td>\n",
       "      <td>6.532390e-01</td>\n",
       "      <td>5010.000000</td>\n",
       "    </tr>\n",
       "    <tr>\n",
       "      <th>max</th>\n",
       "      <td>9.214376e+00</td>\n",
       "      <td>1.544848e+01</td>\n",
       "      <td>6.144077e+00</td>\n",
       "      <td>1.612940e+01</td>\n",
       "      <td>5.335579e+01</td>\n",
       "      <td>1.929187e+01</td>\n",
       "      <td>1.048000e+01</td>\n",
       "      <td>1.420475e+01</td>\n",
       "      <td>9.414117e+00</td>\n",
       "      <td>3.480054e+00</td>\n",
       "      <td>...</td>\n",
       "      <td>7.194001e+00</td>\n",
       "      <td>6.998841e+00</td>\n",
       "      <td>6.590645e+00</td>\n",
       "      <td>5.342979e+00</td>\n",
       "      <td>6.317815e+00</td>\n",
       "      <td>4.659430e+00</td>\n",
       "      <td>6.497907</td>\n",
       "      <td>3.537709e+00</td>\n",
       "      <td>4.348532e+00</td>\n",
       "      <td>8940.000000</td>\n",
       "    </tr>\n",
       "  </tbody>\n",
       "</table>\n",
       "<p>8 rows × 29 columns</p>\n",
       "</div>"
      ],
      "text/plain": [
       "               mean        d_mean           var         d_var          kurt  \\\n",
       "count  7.990000e+03  7.990000e+03  7.990000e+03  7.990000e+03  7.990000e+03   \n",
       "mean   1.856838e-15  4.624308e-17 -7.487822e-15  1.138291e-16  1.095605e-15   \n",
       "std    1.000000e+00  1.000000e+00  1.000000e+00  1.000000e+00  1.000000e+00   \n",
       "min   -5.738447e+00 -8.445772e+00 -1.679914e+00 -4.373713e-01 -2.108405e+00   \n",
       "25%   -7.648588e-01 -7.079311e-02 -6.796586e-01 -4.369555e-01 -4.709294e-01   \n",
       "50%    1.503487e-02 -3.572084e-02 -4.230174e-01 -3.624927e-01 -7.651889e-02   \n",
       "75%    7.365468e-01 -4.628466e-04  4.443883e-01 -1.179739e-01  3.773872e-01   \n",
       "max    9.214376e+00  1.544848e+01  6.144077e+00  1.612940e+01  5.335579e+01   \n",
       "\n",
       "             d_kurt          skew        d_skew        mfcc_0        mfcc_1  \\\n",
       "count  7.990000e+03  7.990000e+03  7.990000e+03  7.990000e+03  7.990000e+03   \n",
       "mean   2.769249e-15  1.799923e-15 -8.892900e-18 -5.128358e-14 -3.059158e-16   \n",
       "std    1.000000e+00  1.000000e+00  1.000000e+00  1.000000e+00  1.000000e+00   \n",
       "min   -4.502170e-01 -6.666701e+00 -1.397398e+01 -7.797694e+00 -4.524755e+00   \n",
       "25%   -3.887110e-01 -7.270043e-01 -2.170085e-01 -7.152919e-01 -6.832079e-01   \n",
       "50%   -3.234445e-01 -2.188330e-01 -1.603243e-03 -2.910347e-01 -3.603069e-01   \n",
       "75%   -1.177261e-01  3.410008e-01  1.923541e-01  5.586682e-01  6.835437e-01   \n",
       "max    1.929187e+01  1.048000e+01  1.420475e+01  9.414117e+00  3.480054e+00   \n",
       "\n",
       "       ...      d_mfcc_1      d_mfcc_2      d_mfcc_3      d_mfcc_4  \\\n",
       "count  ...  7.990000e+03  7.990000e+03  7.990000e+03  7.990000e+03   \n",
       "mean   ... -5.335740e-17 -1.018237e-16  1.511793e-17  4.757702e-17   \n",
       "std    ...  1.000000e+00  1.000000e+00  1.000000e+00  1.000000e+00   \n",
       "min    ... -5.711117e+00 -9.172850e+00 -1.157423e+01 -4.456388e+00   \n",
       "25%    ... -6.247187e-01 -5.901918e-01 -6.121398e-01 -6.700364e-01   \n",
       "50%    ...  2.322891e-02  1.949097e-02  9.030963e-03 -1.451984e-03   \n",
       "75%    ...  6.333628e-01  6.054425e-01  5.908974e-01  6.773704e-01   \n",
       "max    ...  7.194001e+00  6.998841e+00  6.590645e+00  5.342979e+00   \n",
       "\n",
       "           d_mfcc_5      d_mfcc_6     d_mfcc_7      d_mfcc_8      d_mfcc_9  \\\n",
       "count  7.990000e+03  7.990000e+03  7990.000000  7.990000e+03  7.990000e+03   \n",
       "mean   7.114320e-18  8.892900e-19     0.000000  1.062702e-16 -5.780385e-18   \n",
       "std    1.000000e+00  1.000000e+00     1.000000  1.000000e+00  1.000000e+00   \n",
       "min   -7.099078e+00 -5.081478e+00    -7.273879 -4.550571e+00 -5.477620e+00   \n",
       "25%   -6.183514e-01 -6.355623e-01    -0.653536 -6.563256e-01 -6.756040e-01   \n",
       "50%   -2.230984e-03 -1.906630e-02     0.020669 -1.906166e-02 -7.334201e-03   \n",
       "75%    6.458605e-01  6.294449e-01     0.660187  6.536491e-01  6.532390e-01   \n",
       "max    6.317815e+00  4.659430e+00     6.497907  3.537709e+00  4.348532e+00   \n",
       "\n",
       "             frame  \n",
       "count  7990.000000  \n",
       "mean   2783.513267  \n",
       "std    2526.238345  \n",
       "min       2.000000  \n",
       "25%     683.000000  \n",
       "50%    1856.500000  \n",
       "75%    5010.000000  \n",
       "max    8940.000000  \n",
       "\n",
       "[8 rows x 29 columns]"
      ]
     },
     "execution_count": 2,
     "metadata": {},
     "output_type": "execute_result"
    }
   ],
   "source": [
    "# select the X and y to be used for modeling\n",
    "ml_df = df.copy() # make a copy\n",
    "X_cols = headers[:-3] # numeric features\n",
    "y_cols = headers[-3] # \"label\"\n",
    "\n",
    "X_mean = ml_df[X_cols].mean(axis=0)\n",
    "X_std  = ml_df[X_cols].std(axis=0)\n",
    "\n",
    "ml_df[X_cols] = (ml_df[X_cols]-X_mean)/X_std\n",
    "ml_df.describe()"
   ]
  },
  {
   "cell_type": "markdown",
   "metadata": {},
   "source": [
    "# Models\n",
    "\n",
    "Will consider the following models:\n",
    "\n",
    "1. Logistic Regression\n",
    "2. Decision Tree Classifier"
   ]
  },
  {
   "cell_type": "markdown",
   "metadata": {},
   "source": [
    "## Train-Valid-Test Split\n",
    "Split the frames by `video_url` as this will ensure that the unseen data doesn't contain frames from videos that the model has been exposed to. This is particularly important because some of the features are video dependent (eg. lighting, weather etc) and the model should not have seen any of those criteria if the frame is truly \"unseen\"."
   ]
  },
  {
   "cell_type": "code",
   "execution_count": 3,
   "metadata": {},
   "outputs": [
    {
     "name": "stdout",
     "output_type": "stream",
     "text": [
      "Train set shape:  (4085, 31)\n",
      "Validation set shape:  (2015, 31)\n",
      "Test set shape:  (1890, 31)\n"
     ]
    }
   ],
   "source": [
    "# get the video urls to determine unique videos\n",
    "video_urls = ml_df.loc[:,headers[-2]].unique()\n",
    "\n",
    "# randomly sample\n",
    "np.random.seed(0)\n",
    "train_prop = 0.5 # save half the videos for validation run\n",
    "val_prop   = 0.25\n",
    "train_idx = np.random.choice(len(video_urls),int(np.floor(train_prop*len(video_urls))),\n",
    "                           replace=False)\n",
    "val_idx_full   = np.setdiff1d(np.arange(len(video_urls)), train_idx)\n",
    "\n",
    "val_idx = np.random.choice(val_idx_full,int(np.floor(val_prop*len(video_urls))),\n",
    "                           replace=False)\n",
    "test_idx = np.setdiff1d(val_idx_full, val_idx)\n",
    "\n",
    "# find the videos corresponding to these indices\n",
    "train_videos = video_urls[train_idx]\n",
    "val_videos   = video_urls[val_idx]\n",
    "test_videos   = video_urls[test_idx]\n",
    "\n",
    "\n",
    "ml_train = ml_df.loc[ml_df[headers[-2]].isin(train_videos),:]\n",
    "ml_val   = ml_df.loc[ml_df[headers[-2]].isin(val_videos)  ,:]\n",
    "ml_test  = ml_df.loc[ml_df[headers[-2]].isin(test_videos) ,:]\n",
    "\n",
    "print(\"Train set shape: \", ml_train.shape)\n",
    "print(\"Validation set shape: \",ml_val.shape)\n",
    "print(\"Test set shape: \",ml_test.shape)"
   ]
  },
  {
   "cell_type": "markdown",
   "metadata": {},
   "source": [
    "## Logistic Regression\n",
    "### Training"
   ]
  },
  {
   "cell_type": "code",
   "execution_count": 20,
   "metadata": {},
   "outputs": [
    {
     "name": "stderr",
     "output_type": "stream",
     "text": [
      "100% (200 of 200) |######################| Elapsed Time: 0:00:18 Time:  0:00:18\n",
      "N/A% (0 of 200) |                        | Elapsed Time: 0:00:00 ETA:  --:--:--"
     ]
    },
    {
     "name": "stdout",
     "output_type": "stream",
     "text": [
      "Variables Kept:\n",
      "['mean' 'var' 'd_var' 'kurt' 'skew' 'd_skew' 'mfcc_0' 'mfcc_2' 'mfcc_3'\n",
      " 'mfcc_4' 'mfcc_6' 'mfcc_7' 'mfcc_8' 'd_mfcc_0' 'd_mfcc_1' 'd_mfcc_4'\n",
      " 'd_mfcc_5' 'd_mfcc_7' 'd_mfcc_9']\n",
      "\n",
      "Variables Removed:\n",
      "['d_mean' 'd_kurt' 'mfcc_1' 'mfcc_5' 'mfcc_9' 'd_mfcc_2' 'd_mfcc_3'\n",
      " 'd_mfcc_6' 'd_mfcc_8']\n",
      "\n"
     ]
    },
    {
     "name": "stderr",
     "output_type": "stream",
     "text": [
      "100% (200 of 200) |######################| Elapsed Time: 0:00:13 Time:  0:00:13\n",
      "N/A% (0 of 200) |                        | Elapsed Time: 0:00:00 ETA:  --:--:--"
     ]
    },
    {
     "name": "stdout",
     "output_type": "stream",
     "text": [
      "Variables Kept:\n",
      "['mean' 'var' 'd_var' 'kurt' 'skew' 'mfcc_0' 'mfcc_2' 'mfcc_3' 'mfcc_4'\n",
      " 'mfcc_6' 'mfcc_7' 'mfcc_8' 'd_mfcc_0' 'd_mfcc_1' 'd_mfcc_4' 'd_mfcc_5'\n",
      " 'd_mfcc_7' 'd_mfcc_9']\n",
      "\n",
      "Variables Removed:\n",
      "['d_skew']\n",
      "\n"
     ]
    },
    {
     "name": "stderr",
     "output_type": "stream",
     "text": [
      "100% (200 of 200) |######################| Elapsed Time: 0:00:13 Time:  0:00:13\n"
     ]
    },
    {
     "name": "stdout",
     "output_type": "stream",
     "text": [
      "Variables Kept:\n",
      "['mean' 'var' 'd_var' 'kurt' 'skew' 'mfcc_0' 'mfcc_2' 'mfcc_3' 'mfcc_4'\n",
      " 'mfcc_6' 'mfcc_7' 'mfcc_8' 'd_mfcc_0' 'd_mfcc_1' 'd_mfcc_4' 'd_mfcc_5'\n",
      " 'd_mfcc_7' 'd_mfcc_9']\n",
      "\n",
      "Variables Removed:\n",
      "[]\n",
      "\n",
      "Stopping condition reached, no more variables to drop\n"
     ]
    }
   ],
   "source": [
    "# load scikit learn logistic regression\n",
    "from sklearn.linear_model import LogisticRegression\n",
    "from sklearn.model_selection import train_test_split, ShuffleSplit\n",
    "from sklearn.metrics import confusion_matrix\n",
    "\n",
    "# hide convergence warnings\n",
    "import warnings\n",
    "warnings.filterwarnings(\"ignore\")\n",
    "\n",
    "# show progress\n",
    "import progressbar\n",
    "\n",
    "def score_model(clf, X_test, y_test):\n",
    "    # get predictions\n",
    "    y_hat = clf.predict(X_test)\n",
    "    # get the confusion matrix\n",
    "    tn, fp, fn, tp = confusion_matrix(y_test, y_hat).ravel()\n",
    "    # get accuracy\n",
    "    acc  = (tn+tp)/(tn+fp+fn+tp)\n",
    "    # get sensitivity\n",
    "    sens = tp/(tp+fn)\n",
    "    # get specificity\n",
    "    spec = tn/(tn+fp)\n",
    "    return acc, sens, spec\n",
    "    \n",
    "\n",
    "# perform bootstrapping to observe which coefficients can be dropped\n",
    "b = 200\n",
    "n_train = 0.5 # train on half, test on half\n",
    "\n",
    "# storage for accuracy, sensitivity, specificity (for both train and test to check for overfitting)\n",
    "scores = np.zeros((b, 6))\n",
    "bs = ShuffleSplit(n_splits = b,\n",
    "                 random_state=0,\n",
    "                 test_size=0.5)\n",
    "conf = .9 # form a 90% confidence interval to include significant variables\n",
    "X_cols_0 = X_cols.copy() # make a copy to prevent weirdness happening\n",
    "stop_cond = False\n",
    "while not stop_cond:\n",
    "    # define the response and predictors\n",
    "    X = ml_train[X_cols_0]\n",
    "    y = np.where(ml_train[y_cols]==\"Danger\",1,0) # 1: Danger, 0 No_Danger\n",
    "    # iterate training the model and performing variable selection\n",
    "    params = np.zeros((b,1+len(X_cols_0))) # storage for coefficeints\n",
    "    iter = 0\n",
    "    with progressbar.ProgressBar(max_value=b) as bar:\n",
    "        for train_index, test_index in bs.split(X):\n",
    "            X_train, X_test = X.iloc[train_index,:], X.iloc[test_index,:]\n",
    "            y_train, y_test = y[train_index], y[test_index]\n",
    "            # fit the classifier\n",
    "            clf = LogisticRegression(random_state=0,\n",
    "                                solver=\"sag\").fit(X_train,y_train)\n",
    "            # record the model parameters\n",
    "            params[iter,:] = np.squeeze(np.hstack((clf.intercept_[:,None], clf.coef_)))\n",
    "            # score the model on train data first\n",
    "            scores[iter,:3] = score_model(clf, X_train, y_train)\n",
    "            # score the model on test data\n",
    "            scores[iter,3:] = score_model(clf, X_test, y_test)\n",
    "            # iteration counter\n",
    "            bar.update(iter)\n",
    "            iter +=1\n",
    "    # check the parameters for ones that are not significantly different to zero and drop\n",
    "    # then refit the model\n",
    "    # We cannot drop the intercept!\n",
    "    up = np.percentile(params[:,1:], 100*(1-(1-conf)/2), axis=0)\n",
    "    down = np.percentile(params[:,1:], 100*(1-conf)/2, axis=0)\n",
    "    keep = np.where((up>0)&(down<0),False, True)\n",
    "    not_keep = np.where((up>0)&(down<0),True, False)\n",
    "    X_cols_1 = X_cols_0[keep]\n",
    "    print(\"Variables Kept:\\n{}\\n\".format(X_cols_1))\n",
    "    print(\"Variables Removed:\\n{}\\n\".format(X_cols_0[not_keep]))\n",
    "    # update the columns to use in the model\n",
    "    X_cols_0 = X_cols_1\n",
    "    if False in keep:\n",
    "        stop_cond = False\n",
    "    else:\n",
    "        print(\"Stopping condition reached, no more variables to drop\")\n",
    "        stop_cond = True\n",
    "        \n",
    "    "
   ]
  },
  {
   "cell_type": "code",
   "execution_count": 21,
   "metadata": {},
   "outputs": [
    {
     "data": {
      "image/png": "[encoded data removed]",
      "text/plain": [
       "<Figure size 576x576 with 4 Axes>"
      ]
     },
     "metadata": {
      "needs_background": "light"
     },
     "output_type": "display_data"
    }
   ],
   "source": [
    "# plotting\n",
    "import matplotlib.pyplot as plt\n",
    "import seaborn as sns\n",
    "\n",
    "# custom helper scripts\n",
    "import common.model.training.training_utils as tu\n",
    "\n",
    "# boxplot of the parameters\n",
    "fig = plt.figure(figsize = (8,8))\n",
    "ax = fig.add_subplot(2, 2, 1)\n",
    "ax.boxplot(params)\n",
    "ax.axhline(y=0, c=\"b\")\n",
    "x_ax_labs = np.insert(X_cols,0,\"intercept\") \n",
    "ax.set_xticklabels(x_ax_labs, rotation = 90)\n",
    "\n",
    "\n",
    "# boxplot of the scorings, grouped by type if possible\n",
    "# reconfigure so that the \n",
    "ax = fig.add_subplot(2, 2, 2)\n",
    "ax.boxplot(scores[:,[0,3]])\n",
    "ax.set_xticklabels([\"Training\\nAccuracy\", \"Testing\\nAccuracy\"])\n",
    "\n",
    "ax = fig.add_subplot(2, 2, 3)\n",
    "ax.boxplot(scores[:,[1,4]])\n",
    "ax.set_xticklabels([\"Training\\nSensitivity\", \"Testing\\nSensitivity\"])\n",
    "\n",
    "ax = fig.add_subplot(2, 2, 4)\n",
    "ax.boxplot(scores[:,[2,5]])\n",
    "ax.set_xticklabels([\"Training\\nSpecificity\", \"Testing\\nSpecificity\"])\n",
    "\n",
    "plt.subplots_adjust(hspace=0.3)\n",
    "plt.savefig(\"lr.pdf\")\n",
    "plt.show()"
   ]
  },
  {
   "cell_type": "markdown",
   "metadata": {},
   "source": [
    "## Logistic Regression\n",
    "### Threshold Selection"
   ]
  },
  {
   "cell_type": "code",
   "execution_count": 22,
   "metadata": {},
   "outputs": [
    {
     "name": "stdout",
     "output_type": "stream",
     "text": [
      "Threshold to achieve Sensitivity of 0.95: 0.10453096991822522\n",
      "     pred_neg  pred_pos\n",
      "neg       279       736\n",
      "pos        50       950\n",
      "Sensitivity (Recall): 0.95\n",
      "Specificity         : 0.2748768472906404\n"
     ]
    },
    {
     "data": {
      "image/png": "[encoded data removed]",
      "text/plain": [
       "<Figure size 576x576 with 1 Axes>"
      ]
     },
     "metadata": {
      "needs_background": "light"
     },
     "output_type": "display_data"
    }
   ],
   "source": [
    "from sklearn.metrics import roc_curve, precision_recall_curve, auc, make_scorer, recall_score, accuracy_score, precision_score, confusion_matrix\n",
    "\n",
    "X_train, X_test = ml_train[X_cols_1], ml_val[X_cols_1]\n",
    "y_train, y_test = np.where(ml_train[y_cols]==\"Danger\",1,0), np.where(ml_val[y_cols]==\"Danger\",1,0)\n",
    "clf = LogisticRegression(random_state=0,\n",
    "                            solver=\"sag\").fit(X_train,y_train)\n",
    "# get y_hat\n",
    "y_hat = clf.predict_proba(X_test)[:, 1]\n",
    "\n",
    "p, r, thresholds = tu.precision_recall_curve(y_test, y_hat)\n",
    "\n",
    "target_r = 0.95\n",
    "t_opt = thresholds[np.argmin(np.abs(r-target_r))]\n",
    "print(\"Threshold to achieve Sensitivity of {}: {}\".format(target_r, t_opt))\n",
    "\n",
    "tu.precision_recall_threshold(p, r, thresholds, y_hat, y_test, t= t_opt)"
   ]
  },
  {
   "cell_type": "code",
   "execution_count": 23,
   "metadata": {},
   "outputs": [
    {
     "data": {
      "image/png": "[encoded data removed]",
      "text/plain": [
       "<Figure size 576x576 with 1 Axes>"
      ]
     },
     "metadata": {
      "needs_background": "light"
     },
     "output_type": "display_data"
    }
   ],
   "source": [
    "tu.plot_precision_recall_vs_threshold(p, r, thresholds)"
   ]
  },
  {
   "cell_type": "code",
   "execution_count": 24,
   "metadata": {},
   "outputs": [
    {
     "name": "stdout",
     "output_type": "stream",
     "text": [
      "Area under ROC curve: 0.8903354679802955\n"
     ]
    },
    {
     "data": {
      "image/png": "[encoded data removed]",
      "text/plain": [
       "<Figure size 576x576 with 1 Axes>"
      ]
     },
     "metadata": {
      "needs_background": "light"
     },
     "output_type": "display_data"
    }
   ],
   "source": [
    "fpr, tpr, auc_thresholds = tu.roc_curve(y_test, y_hat)\n",
    "print(\"Area under ROC curve: {}\".format(auc(fpr, tpr))) # AUC of ROC\n",
    "tu.plot_roc_curve(fpr, tpr, 'recall_optimized')"
   ]
  },
  {
   "cell_type": "markdown",
   "metadata": {},
   "source": [
    "## Decision Tree Classifier\n",
    "### Training"
   ]
  },
  {
   "cell_type": "code",
   "execution_count": 28,
   "metadata": {},
   "outputs": [
    {
     "name": "stdout",
     "output_type": "stream",
     "text": [
      "Search Complete in 8.314656257629395 seconds\n"
     ]
    },
    {
     "data": {
      "image/png": "[encoded data removed]",
      "text/plain": [
       "<Figure size 576x576 with 3 Axes>"
      ]
     },
     "metadata": {
      "needs_background": "light"
     },
     "output_type": "display_data"
    }
   ],
   "source": [
    "# load scikit learn logistic regression\n",
    "from sklearn.tree import DecisionTreeClassifier\n",
    "\n",
    "# parallel\n",
    "from multiprocessing import Pool\n",
    "from itertools import repeat\n",
    "\n",
    "X = ml_train[X_cols]\n",
    "y = np.where(ml_train[y_cols]==\"Danger\",1,0) # 1: Danger, 0 No_Danger\n",
    "\n",
    "# perform bootstrapping to observe which coefficients can be dropped\n",
    "b = 200\n",
    "n_train = 0.5 # train on half, test on half\n",
    "params = np.zeros((b,1+len(X_cols))) # storage for coefficeints\n",
    "# storage for accuracy, sensitivity, specificity (for both train and test to check for overfitting)\n",
    "nk = 10 # number of different depths to try\n",
    "depths = np.arange(nk)+1 # zero depth tree doesnt make sense\n",
    "\n",
    "scores = np.zeros((b, nk, 6))\n",
    "bs = ShuffleSplit(n_splits = b,\n",
    "                 random_state=0,\n",
    "                 test_size=0.5)\n",
    "iter = 0\n",
    "start = time.time()\n",
    "X_tr, X_te, y_tr, y_te = [], [], [], [] # storage lists\n",
    "for train_index, test_index in bs.split(X):    \n",
    "    X_train, X_test = X.iloc[train_index,:], X.iloc[test_index,:]\n",
    "    y_train, y_test = y[train_index], y[test_index]\n",
    "    X_tr.append(X_train)\n",
    "    X_te.append(X_test)\n",
    "    y_tr.append(y_train)\n",
    "    y_te.append(y_test)\n",
    "# evaluate performance in parallel\n",
    "def return_scores(split, depths):\n",
    "    train_index = split[0]\n",
    "    test_index  = split[1]\n",
    "    scores = np.zeros((nk,6))\n",
    "    for i in range(nk):\n",
    "        # fit the classifier\n",
    "        clf = DecisionTreeClassifier(random_state=0,\n",
    "                        max_depth=depths[i]).fit(X_train,y_train)\n",
    "        # score the model on train data first\n",
    "        scores[i,:3] = score_model(clf, X_train, y_train)\n",
    "        # score the model on test data\n",
    "        scores[i,3:] = score_model(clf, X_test, y_test)\n",
    "    return scores\n",
    "with Pool(os.cpu_count()) as pool:\n",
    "    res = pool.starmap(return_scores,\n",
    "                        zip(bs.split(X),\n",
    "                            repeat(depths)))\n",
    "print(\"Search Complete in {} seconds\".format(time.time()-start))\n",
    "scores = np.array(res)\n",
    "\n",
    "# get the confidence intervals\n",
    "up = np.percentile(scores, 95, axis=0)\n",
    "med = np.percentile(scores, 50, axis=0)\n",
    "lo = np.percentile(scores, 5, axis=0)\n",
    "\n",
    "# Plot 1: Accuracy with depth\n",
    "metric = \"Accuracy\"\n",
    "fig = plt.figure(figsize = (8,8))\n",
    "ax = fig.add_subplot(3, 1, 1)\n",
    "ax.fill_between(depths, up[:,0], lo[:,0], color=\"b\")\n",
    "ax.plot(depths, med[:,0], c=\"b\", label=\"Train {}\".format(metric))\n",
    "ax.fill_between(depths, up[:,3], lo[:,3], color=\"r\")\n",
    "ax.plot(depths, med[:,3], c=\"r\", label=\"Test {}\".format(metric))\n",
    "ax.legend()\n",
    "\n",
    "\n",
    "# Plot 2: Sensitivity with depth\n",
    "metric = \"Sensitivity\"\n",
    "ax = fig.add_subplot(3, 1, 2)\n",
    "ax.fill_between(depths, up[:,1], lo[:,1], color=\"b\")\n",
    "ax.plot(depths, med[:,1], c=\"b\", label=\"Train {}\".format(metric))\n",
    "ax.fill_between(depths, up[:,4], lo[:,4], color=\"r\")\n",
    "ax.plot(depths, med[:,4], c=\"r\", label=\"Test {}\".format(metric))\n",
    "ax.legend()\n",
    "\n",
    "# Plot 3: Specificity with depth\n",
    "metric = \"Specificity\"\n",
    "ax = fig.add_subplot(3, 1, 3)\n",
    "ax.fill_between(depths, up[:,2], lo[:,2], color=\"b\")\n",
    "ax.plot(depths, med[:,2], c=\"b\", label=\"Train {}\".format(metric))\n",
    "ax.fill_between(depths, up[:,5], lo[:,5], color=\"r\")\n",
    "ax.plot(depths, med[:,5], c=\"r\", label=\"Test {}\".format(metric))\n",
    "ax.legend()\n",
    "\n",
    "\n",
    "plt.subplots_adjust(hspace=0.3)\n",
    "plt.savefig(\"dt.pdf\")\n",
    "plt.show()\n"
   ]
  },
  {
   "cell_type": "markdown",
   "metadata": {},
   "source": [
    "## Decision Tree\n",
    "### Threshold Selection"
   ]
  },
  {
   "cell_type": "code",
   "execution_count": 29,
   "metadata": {},
   "outputs": [
    {
     "name": "stdout",
     "output_type": "stream",
     "text": [
      "Threshold to achieve Sensitivity of 0.95: 0.0036363636363636364\n",
      "     pred_neg  pred_pos\n",
      "neg       274       741\n",
      "pos        50       950\n",
      "Sensitivity (Recall): 0.95\n",
      "Specificity         : 0.26995073891625615\n"
     ]
    },
    {
     "data": {
      "image/png": "[encoded data removed]",
      "text/plain": [
       "<Figure size 576x576 with 1 Axes>"
      ]
     },
     "metadata": {
      "needs_background": "light"
     },
     "output_type": "display_data"
    }
   ],
   "source": [
    "# optimal depth appears to be 9\n",
    "X_train, X_test = ml_train[X_cols], ml_val[X_cols]\n",
    "y_train, y_test = np.where(ml_train[y_cols]==\"Danger\",1,0), np.where(ml_val[y_cols]==\"Danger\",1,0)\n",
    "clf = DecisionTreeClassifier(random_state=0,\n",
    "                        max_depth=9).fit(X_train,y_train)\n",
    "# get y_hat\n",
    "y_hat = clf.predict_proba(X_test)[:, 1]\n",
    "\n",
    "p, r, thresholds = tu.precision_recall_curve(y_test, y_hat)\n",
    "\n",
    "target_r = 0.95\n",
    "t_opt = thresholds[np.argmin(np.abs(r-target_r))]\n",
    "print(\"Threshold to achieve Sensitivity of {}: {}\".format(target_r, t_opt))\n",
    "\n",
    "tu.precision_recall_threshold(p, r, thresholds, y_hat, y_test, t= t_opt)"
   ]
  },
  {
   "cell_type": "markdown",
   "metadata": {},
   "source": [
    "# Save Models in Pipeline\n",
    "Save the models so that they can be easily reloaded"
   ]
  },
  {
   "cell_type": "code",
   "execution_count": 49,
   "metadata": {},
   "outputs": [
    {
     "data": {
      "text/plain": [
       "['/home/matthew/Documents/GapWatch/common/model/training/n3060_dif/n3060_dif_dt.pkl']"
      ]
     },
     "execution_count": 49,
     "metadata": {},
     "output_type": "execute_result"
    }
   ],
   "source": [
    "from sklearn.pipeline import Pipeline\n",
    "from sklearn.preprocessing import StandardScaler # (x-mu)/sigma\n",
    "from joblib import dump, load\n",
    "\n",
    "# config utilities\n",
    "from common.data.labels.app.config_utils import JSONPropertiesFile\n",
    "\n",
    "# logistic regression\n",
    "# make sure we can automatically select the variables in X that LR expects\n",
    "# don't want to be creating a dataframe every time this pipeline is called as that will get\n",
    "# expensive quickly\n",
    "# load in the model headers\n",
    "m_loc = \"common.model.training.n3060_dif.n3060_dif\" # dataset configuration file\n",
    "lr_model_store = \"common/model/training/n3060_dif/n3060_dif_lr.pkl\"\n",
    "headers = m.const_header()\n",
    "lr_sel_headers = [True if i in X_cols_0 else False for i in headers]\n",
    "\n",
    "# write a config file\n",
    "lr_CONFIG_FILE_LOC = \"lr_config.json\"\n",
    "lr_default_properties = {\n",
    "    'headers'     : headers,\n",
    "    'sel_headers' : lr_sel_headers,\n",
    "    'model_store' : lr_model_store,\n",
    "    'm_loc'       : m_loc,\n",
    "    'n_prev'      : 1\n",
    "}\n",
    "config_file = JSONPropertiesFile(lr_CONFIG_FILE_LOC, lr_default_properties)\n",
    "config = config_file.get()\n",
    "config_file.set(config)\n",
    "# dump the logistic regression model\n",
    "X_train, X_test = ml_train[X_cols_0], ml_val[X_cols_0] # recall that these are the variables it uses\n",
    "y_train, y_test = np.where(ml_train[y_cols]==\"Danger\",1,0), np.where(ml_val[y_cols]==\"Danger\",1,0)\n",
    "\n",
    "dt_pipe = Pipeline([('scaler', StandardScaler()),\n",
    "                  ('dt', LogisticRegression(random_state=0,\n",
    "                                           solver=\"sag\"))])\n",
    "lr_pipe.fit(X_train, y_train)\n",
    "lr_pipe.score(X_test, y_test)\n",
    "dump(lr_pipe, os.path.join(git_root,lr_model_store))\n",
    "\n",
    "\n",
    "# store decision tree model\n",
    "dt_model_store = \"common/model/training/n3060_dif/n3060_dif_dt.pkl\"\n",
    "headers = m.const_header()\n",
    "dt_sel_headers = [True if i in X_cols else False for i in headers]\n",
    "\n",
    "# write a config file\n",
    "dt_CONFIG_FILE_LOC = \"dt_config.json\"\n",
    "dt_default_properties = {\n",
    "    'headers'     : headers,\n",
    "    'sel_headers' : dt_sel_headers,\n",
    "    'model_store' : dt_model_store,\n",
    "    'm_loc'       : m_loc,\n",
    "    'n_prev'      : 1  \n",
    "}\n",
    "config_file = JSONPropertiesFile(dt_CONFIG_FILE_LOC, dt_default_properties)\n",
    "config = config_file.get()\n",
    "config_file.set(config)\n",
    "# dump the decision tree classifier model\n",
    "X_train, X_test = ml_train[X_cols], ml_val[X_cols] # recall that these are the variables it uses\n",
    "y_train, y_test = np.where(ml_train[y_cols]==\"Danger\",1,0), np.where(ml_val[y_cols]==\"Danger\",1,0)\n",
    "\n",
    "dt_pipe = Pipeline([('scaler', StandardScaler()),\n",
    "                 ('lr', DecisionTreeClassifier(random_state=0,\n",
    "                        max_depth=9))])\n",
    "dt_pipe.fit(X_train, y_train)\n",
    "dt_pipe.score(X_test, y_test)\n",
    "dump(dt_pipe, os.path.join(git_root,dt_model_store))"
   ]
  },
  {
   "cell_type": "code",
   "execution_count": null,
   "metadata": {},
   "outputs": [],
   "source": []
  }
 ],
 "metadata": {
  "kernelspec": {
   "display_name": "Python 3",
   "language": "python",
   "name": "python3"
  },
  "language_info": {
   "codemirror_mode": {
    "name": "ipython",
    "version": 3
   },
   "file_extension": ".py",
   "mimetype": "text/x-python",
   "name": "python",
   "nbconvert_exporter": "python",
   "pygments_lexer": "ipython3",
   "version": "3.7.6"
  }
 },
 "nbformat": 4,
 "nbformat_minor": 2
}
